{
  "cells": [
    {
      "cell_type": "markdown",
      "metadata": {
        "id": "e1LYiiZoQI-k"
      },
      "source": [
        "#**Trabajo final Introducción a Machine Learning**\n",
        "##Sofía Pérez Pérez"
      ]
    },
    {
      "cell_type": "markdown",
      "metadata": {
        "id": "jPIO8UcDQevZ"
      },
      "source": [
        "## **Parte 3**: Modelo final y predicción del test data"
      ]
    },
    {
      "cell_type": "markdown",
      "metadata": {
        "id": "z5GxWsT-QkrQ"
      },
      "source": [
        "Importamos las librerías que se vayan a necesitar a lo largo de todo el proceso"
      ]
    },
    {
      "cell_type": "code",
      "execution_count": null,
      "metadata": {},
      "outputs": [
        {
          "name": "stdout",
          "output_type": "stream",
          "text": [
            "Requirement already satisfied: fastcore in c:\\python310\\lib\\site-packages (1.8.2)\n",
            "Requirement already satisfied: matplotlib in c:\\python310\\lib\\site-packages (3.10.3)\n",
            "Requirement already satisfied: pandas in c:\\python310\\lib\\site-packages (2.2.3)\n",
            "Requirement already satisfied: sklearn in c:\\python310\\lib\\site-packages (0.0)\n",
            "Requirement already satisfied: category_encoders in c:\\python310\\lib\\site-packages (2.8.1)\n",
            "Requirement already satisfied: shap in c:\\python310\\lib\\site-packages (0.47.2)\n",
            "Requirement already satisfied: seaborn in c:\\python310\\lib\\site-packages (0.13.2)\n",
            "Requirement already satisfied: packaging in c:\\python310\\lib\\site-packages (from fastcore) (24.1)\n",
            "Requirement already satisfied: pillow>=8 in c:\\python310\\lib\\site-packages (from matplotlib) (11.2.1)\n",
            "Requirement already satisfied: cycler>=0.10 in c:\\python310\\lib\\site-packages (from matplotlib) (0.12.1)\n",
            "Requirement already satisfied: python-dateutil>=2.7 in c:\\users\\javier\\appdata\\roaming\\python\\python310\\site-packages (from matplotlib) (2.9.0.post0)\n",
            "Requirement already satisfied: kiwisolver>=1.3.1 in c:\\python310\\lib\\site-packages (from matplotlib) (1.4.8)\n",
            "Requirement already satisfied: numpy>=1.23 in c:\\python310\\lib\\site-packages (from matplotlib) (2.2.5)\n",
            "Requirement already satisfied: fonttools>=4.22.0 in c:\\python310\\lib\\site-packages (from matplotlib) (4.58.0)\n",
            "Requirement already satisfied: contourpy>=1.0.1 in c:\\python310\\lib\\site-packages (from matplotlib) (1.3.2)\n",
            "Requirement already satisfied: pyparsing>=2.3.1 in c:\\python310\\lib\\site-packages (from matplotlib) (3.2.3)\n",
            "Requirement already satisfied: pytz>=2020.1 in c:\\python310\\lib\\site-packages (from pandas) (2025.2)\n",
            "Requirement already satisfied: tzdata>=2022.7 in c:\\python310\\lib\\site-packages (from pandas) (2025.2)\n",
            "Requirement already satisfied: scikit-learn in c:\\python310\\lib\\site-packages (from sklearn) (1.6.1)\n",
            "Requirement already satisfied: statsmodels>=0.9.0 in c:\\python310\\lib\\site-packages (from category_encoders) (0.14.4)\n",
            "Requirement already satisfied: patsy>=0.5.1 in c:\\python310\\lib\\site-packages (from category_encoders) (1.0.1)\n",
            "Requirement already satisfied: scipy>=1.0.0 in c:\\python310\\lib\\site-packages (from category_encoders) (1.15.3)\n",
            "Requirement already satisfied: tqdm>=4.27.0 in c:\\python310\\lib\\site-packages (from shap) (4.67.1)\n",
            "Requirement already satisfied: slicer==0.0.8 in c:\\python310\\lib\\site-packages (from shap) (0.0.8)\n",
            "Requirement already satisfied: numba>=0.54 in c:\\python310\\lib\\site-packages (from shap) (0.61.2)\n",
            "Requirement already satisfied: typing-extensions in c:\\python310\\lib\\site-packages (from shap) (4.12.2)\n",
            "Requirement already satisfied: cloudpickle in c:\\python310\\lib\\site-packages (from shap) (3.1.1)\n",
            "Requirement already satisfied: llvmlite<0.45,>=0.44.0dev0 in c:\\python310\\lib\\site-packages (from numba>=0.54->shap) (0.44.0)\n",
            "Requirement already satisfied: six>=1.5 in c:\\python310\\lib\\site-packages (from python-dateutil>=2.7->matplotlib) (1.16.0)\n",
            "Requirement already satisfied: threadpoolctl>=3.1.0 in c:\\python310\\lib\\site-packages (from scikit-learn->sklearn) (3.6.0)\n",
            "Requirement already satisfied: joblib>=1.2.0 in c:\\python310\\lib\\site-packages (from scikit-learn->sklearn) (1.5.0)\n",
            "Requirement already satisfied: colorama in c:\\python310\\lib\\site-packages (from tqdm>=4.27.0->shap) (0.4.6)\n"
          ]
        },
        {
          "name": "stderr",
          "output_type": "stream",
          "text": [
            "WARNING: You are using pip version 21.2.3; however, version 25.1.1 is available.\n",
            "You should consider upgrading via the 'C:\\Python310\\python.exe -m pip install --upgrade pip' command.\n"
          ]
        }
      ],
      "source": [
        "!pip install fastcore matplotlib pandas sklearn category_encoders shap seaborn xgboost"
      ]
    },
    {
      "cell_type": "code",
      "execution_count": 6,
      "metadata": {
        "id": "WjH1CMv-woMD"
      },
      "outputs": [],
      "source": [
        "import matplotlib.pyplot as plt\n",
        "import numpy as np\n",
        "import pandas as pd\n",
        "import sklearn\n",
        "from sklearn.model_selection import train_test_split\n",
        "from sklearn.impute import KNNImputer\n",
        "import joblib\n",
        "from fastcore.all import *\n",
        "import wandb\n",
        "from sklearn.preprocessing import StandardScaler\n",
        "import xgboost as xgb\n",
        "from sklearn.metrics import accuracy_score\n",
        "from sklearn.metrics import confusion_matrix"
      ]
    },
    {
      "cell_type": "code",
      "execution_count": 7,
      "metadata": {
        "colab": {
          "base_uri": "https://localhost:8080/"
        },
        "id": "n5leP6I36jjp",
        "outputId": "207e5f34-d7b9-4da1-9ff9-0e8bb2830fd3"
      },
      "outputs": [
        {
          "name": "stdout",
          "output_type": "stream",
          "text": [
            "Requirement already satisfied: category_encoders in c:\\python310\\lib\\site-packages (2.8.1)\n",
            "Requirement already satisfied: patsy>=0.5.1 in c:\\python310\\lib\\site-packages (from category_encoders) (1.0.1)\n",
            "Requirement already satisfied: scikit-learn>=1.6.0 in c:\\python310\\lib\\site-packages (from category_encoders) (1.6.1)\n",
            "Requirement already satisfied: pandas>=1.0.5 in c:\\python310\\lib\\site-packages (from category_encoders) (2.2.3)\n",
            "Requirement already satisfied: numpy>=1.14.0 in c:\\python310\\lib\\site-packages (from category_encoders) (2.2.5)\n",
            "Requirement already satisfied: scipy>=1.0.0 in c:\\python310\\lib\\site-packages (from category_encoders) (1.15.3)\n",
            "Requirement already satisfied: statsmodels>=0.9.0 in c:\\python310\\lib\\site-packages (from category_encoders) (0.14.4)\n",
            "Requirement already satisfied: python-dateutil>=2.8.2 in c:\\users\\javier\\appdata\\roaming\\python\\python310\\site-packages (from pandas>=1.0.5->category_encoders) (2.9.0.post0)\n",
            "Requirement already satisfied: tzdata>=2022.7 in c:\\python310\\lib\\site-packages (from pandas>=1.0.5->category_encoders) (2025.2)\n",
            "Requirement already satisfied: pytz>=2020.1 in c:\\python310\\lib\\site-packages (from pandas>=1.0.5->category_encoders) (2025.2)\n",
            "Requirement already satisfied: six>=1.5 in c:\\python310\\lib\\site-packages (from python-dateutil>=2.8.2->pandas>=1.0.5->category_encoders) (1.16.0)\n",
            "Requirement already satisfied: joblib>=1.2.0 in c:\\python310\\lib\\site-packages (from scikit-learn>=1.6.0->category_encoders) (1.5.0)\n",
            "Requirement already satisfied: threadpoolctl>=3.1.0 in c:\\python310\\lib\\site-packages (from scikit-learn>=1.6.0->category_encoders) (3.6.0)\n",
            "Requirement already satisfied: packaging>=21.3 in c:\\python310\\lib\\site-packages (from statsmodels>=0.9.0->category_encoders) (24.1)\n"
          ]
        },
        {
          "name": "stderr",
          "output_type": "stream",
          "text": [
            "WARNING: You are using pip version 21.2.3; however, version 25.1.1 is available.\n",
            "You should consider upgrading via the 'C:\\Python310\\python.exe -m pip install --upgrade pip' command.\n"
          ]
        }
      ],
      "source": [
        "! pip install category_encoders"
      ]
    },
    {
      "cell_type": "code",
      "execution_count": 8,
      "metadata": {
        "id": "ipb4bVUb6gm3"
      },
      "outputs": [],
      "source": [
        "# Estas opciones permiten mostrar el dataframe de pandas de manera completa\n",
        "pd.set_option(\"display.max_columns\", None)\n",
        "pd.set_option(\"display.max_rows\", None)"
      ]
    },
    {
      "cell_type": "code",
      "execution_count": 9,
      "metadata": {},
      "outputs": [
        {
          "name": "stderr",
          "output_type": "stream",
          "text": [
            "\u001b[34m\u001b[1mwandb\u001b[0m: Currently logged in as: \u001b[33msofiaperezperez22\u001b[0m (\u001b[33msofiaperezperez22-universidad-polit-cnica-de-madrid\u001b[0m) to \u001b[32mhttps://api.wandb.ai\u001b[0m. Use \u001b[1m`wandb login --relogin`\u001b[0m to force relogin\n"
          ]
        },
        {
          "data": {
            "text/html": [
              "Tracking run with wandb version 0.19.11"
            ],
            "text/plain": [
              "<IPython.core.display.HTML object>"
            ]
          },
          "metadata": {},
          "output_type": "display_data"
        },
        {
          "data": {
            "text/html": [
              "Run data is saved locally in <code>c:\\Users\\javier\\OneDrive\\Documentos\\Master\\MLOps\\upm-dl-mlops\\project\\notebooks\\wandb\\run-20250516_195512-pu2qsm5b</code>"
            ],
            "text/plain": [
              "<IPython.core.display.HTML object>"
            ]
          },
          "metadata": {},
          "output_type": "display_data"
        },
        {
          "data": {
            "text/html": [
              "Syncing run <strong><a href='https://wandb.ai/sofiaperezperez22-universidad-polit-cnica-de-madrid/Fraud-classification/runs/pu2qsm5b' target=\"_blank\">baseline</a></strong> to <a href='https://wandb.ai/sofiaperezperez22-universidad-polit-cnica-de-madrid/Fraud-classification' target=\"_blank\">Weights & Biases</a> (<a href='https://wandb.me/developer-guide' target=\"_blank\">docs</a>)<br>"
            ],
            "text/plain": [
              "<IPython.core.display.HTML object>"
            ]
          },
          "metadata": {},
          "output_type": "display_data"
        },
        {
          "data": {
            "text/html": [
              " View project at <a href='https://wandb.ai/sofiaperezperez22-universidad-polit-cnica-de-madrid/Fraud-classification' target=\"_blank\">https://wandb.ai/sofiaperezperez22-universidad-polit-cnica-de-madrid/Fraud-classification</a>"
            ],
            "text/plain": [
              "<IPython.core.display.HTML object>"
            ]
          },
          "metadata": {},
          "output_type": "display_data"
        },
        {
          "data": {
            "text/html": [
              " View run at <a href='https://wandb.ai/sofiaperezperez22-universidad-polit-cnica-de-madrid/Fraud-classification/runs/pu2qsm5b' target=\"_blank\">https://wandb.ai/sofiaperezperez22-universidad-polit-cnica-de-madrid/Fraud-classification/runs/pu2qsm5b</a>"
            ],
            "text/plain": [
              "<IPython.core.display.HTML object>"
            ]
          },
          "metadata": {},
          "output_type": "display_data"
        },
        {
          "data": {
            "text/html": [
              "<button onClick=\"this.nextSibling.style.display='block';this.style.display='none';\">Display W&B run</button><iframe src='https://wandb.ai/sofiaperezperez22-universidad-polit-cnica-de-madrid/Fraud-classification/runs/pu2qsm5b?jupyter=true' style='border:none;width:100%;height:420px;display:none;'></iframe>"
            ],
            "text/plain": [
              "<wandb.sdk.wandb_run.Run at 0x221f458b4c0>"
            ]
          },
          "execution_count": 9,
          "metadata": {},
          "output_type": "execute_result"
        }
      ],
      "source": [
        "wandb.init(\n",
        "    project=os.getenv(\"WANDB_PROJECT\", \"Fraud-classification\"),\n",
        "    name=os.getenv(\"WANDB_RUN_NAME\", \"baseline\"),\n",
        "    config={\"model\": \"XGboost\"})"
      ]
    },
    {
      "cell_type": "markdown",
      "metadata": {
        "id": "AEwfBuwqw_9Q"
      },
      "source": [
        "### Leemos los datos del csv"
      ]
    },
    {
      "cell_type": "code",
      "execution_count": 10,
      "metadata": {
        "id": "169W5PA7w91b"
      },
      "outputs": [],
      "source": [
        "datos = pd.read_csv('data_labels.csv', sep = ',')"
      ]
    },
    {
      "cell_type": "code",
      "execution_count": 11,
      "metadata": {
        "id": "A2Wl9qV3wijM"
      },
      "outputs": [],
      "source": [
        "test_data = pd.read_csv('data_labels.csv', sep = ',')\n",
        "\n"
      ]
    },
    {
      "cell_type": "code",
      "execution_count": 12,
      "metadata": {
        "colab": {
          "base_uri": "https://localhost:8080/"
        },
        "id": "xslW5kUXzHjj",
        "outputId": "2e2720e0-b899-44f2-a833-a27888ca9145"
      },
      "outputs": [
        {
          "data": {
            "text/plain": [
              "90009"
            ]
          },
          "execution_count": 12,
          "metadata": {},
          "output_type": "execute_result"
        }
      ],
      "source": [
        "len(datos)"
      ]
    },
    {
      "cell_type": "markdown",
      "metadata": {
        "id": "LDGgFxXcWc36"
      },
      "source": [
        "### Desbalanceo de la target"
      ]
    },
    {
      "cell_type": "code",
      "execution_count": 13,
      "metadata": {
        "id": "4xT4CJF0WwtE"
      },
      "outputs": [],
      "source": [
        "TARGET  = 'label'"
      ]
    },
    {
      "cell_type": "markdown",
      "metadata": {
        "id": "_YawaR0rXRbI"
      },
      "source": [
        "Para solucionar el desbalanceo, lo que hacemos es eliminar de manera aleatoria observaciones de la clase mayoritaria, en este caso transacciones que no acaban impagandose."
      ]
    },
    {
      "cell_type": "code",
      "execution_count": 14,
      "metadata": {
        "id": "q3pUawQgW_9e"
      },
      "outputs": [],
      "source": [
        "# Separar la clase mayoritaria y minoritaria\n",
        "df_majority = datos[datos[TARGET] == 0]\n",
        "df_minority = datos[datos[TARGET] == 1]\n",
        "\n",
        "# Hacer downsampling de la clase mayoritaria\n",
        "df_majority_downsampled = df_majority.sample(n=len(df_minority), random_state=42)\n",
        "\n",
        "# Concatenar clase minoritaria con clase mayoritaria reducida\n",
        "df_balanced = pd.concat([df_majority_downsampled, df_minority])"
      ]
    },
    {
      "cell_type": "markdown",
      "metadata": {
        "id": "uwXJkdE8YbDY"
      },
      "source": [
        "### Tratamiento variables categóricas"
      ]
    },
    {
      "cell_type": "markdown",
      "metadata": {
        "id": "3_ETJKHovjmr"
      },
      "source": [
        "Eliminamos la variable ID porque no es una posible variable si no que es el identificador.\n",
        "No queremos que el modelo aprenda a que una transacción se vaya a impagar en función de la persona que lo haga o el Id que tenga,\n",
        "si no que se fije en las características de la transacción\n",
        "Eliminamos también el \"Expenditure_AHF\" porque es una variable tipo fecha que tampoco creo que vaya ayudar a la predicción  "
      ]
    },
    {
      "cell_type": "code",
      "execution_count": 15,
      "metadata": {
        "id": "aBdypCB8YfOa"
      },
      "outputs": [],
      "source": [
        "columnas_categoricas = df_balanced.select_dtypes(include = 'object').columns\n",
        "columnas_categoricas = columnas_categoricas.drop([\"ID\", \"Expenditure_AHF\"])"
      ]
    },
    {
      "cell_type": "code",
      "execution_count": 16,
      "metadata": {
        "id": "TvxMosUBYk6R"
      },
      "outputs": [],
      "source": [
        "columnas_entrenamiento = df_balanced.columns.drop([\"ID\", \"Expenditure_AHF\", \"label\"]) # Expenditure_AHF es la fecha de la transaccion"
      ]
    },
    {
      "cell_type": "markdown",
      "metadata": {
        "id": "JJUx2xjgaXVg"
      },
      "source": [
        "#### Usamos la técnica de target encoder"
      ]
    },
    {
      "cell_type": "markdown",
      "metadata": {
        "id": "altSMQ-7ONJK"
      },
      "source": [
        "La técnica de target encoder lo que hace es que asigna el valor medio de la target para un valor concreto de cada variable categórica. Por ejemplo, en la variable categórica de Infraction_TEN, mirará cada posible valor de esa variable (moderate, high, low, etc), y los sustituirá por el valor medio que toma la target en esos casos. No obstante, para evitar overfitting, se ha elegido que solo se haga este procedicimento para aquellos valores que aparezcan en al menos 50 registros. Si no, se aplicará la media de la target global del dataset completo."
      ]
    },
    {
      "cell_type": "code",
      "execution_count": 17,
      "metadata": {
        "id": "i54lRhGJRAKw"
      },
      "outputs": [],
      "source": [
        "df_balanced['label'] = df_balanced['label'].astype('int')"
      ]
    },
    {
      "cell_type": "code",
      "execution_count": 18,
      "metadata": {
        "id": "rZWNZ7kvYsKT"
      },
      "outputs": [],
      "source": [
        "from category_encoders import TargetEncoder\n",
        "\n",
        "te_params_dict = {'min_samples_leaf': 50, 'smoothing': 1}\n",
        "target_encoder = TargetEncoder(**te_params_dict)\n",
        "df_balanced[[var + '_enc' for var in columnas_categoricas]] = target_encoder.fit_transform(df_balanced[columnas_categoricas], df_balanced[TARGET])\n",
        "test_data[[var + '_enc' for var in columnas_categoricas]] = target_encoder.transform(test_data[columnas_categoricas])"
      ]
    },
    {
      "cell_type": "code",
      "execution_count": 19,
      "metadata": {
        "id": "re01_wcyF8dR"
      },
      "outputs": [],
      "source": [
        "test_data[[var + '_enc' for var in columnas_categoricas]] = target_encoder.transform(test_data[columnas_categoricas])"
      ]
    },
    {
      "cell_type": "markdown",
      "metadata": {
        "id": "4ejepB9QV7mp"
      },
      "source": [
        "### Valores nulos"
      ]
    },
    {
      "cell_type": "markdown",
      "metadata": {
        "id": "DcOSFuFXVXG-"
      },
      "source": [
        "No obstante, vemos en detalle el % de nulos de cada variable"
      ]
    },
    {
      "cell_type": "code",
      "execution_count": 20,
      "metadata": {
        "id": "oMoxgggiVb6K"
      },
      "outputs": [],
      "source": [
        "nulos = {}\n",
        "for var in df_balanced.columns:\n",
        "    nulos[var] = df_balanced[var].isna().sum()/len(df_balanced)*100"
      ]
    },
    {
      "cell_type": "markdown",
      "metadata": {
        "id": "9bJ32bTGVkqv"
      },
      "source": [
        "Decidimos borrar las variables que tengan un % de nulos mayor del 40%. Podríamos dejarlas e imputarlos de alguna manera, pero al tener tantos registros nulos, es posible que no captemos la verdadera distribución de esas variables y el proceso de aprendizaje no sea óptimo. El resto de variables con un % menor serán tratadas posteriormente con un KNN imputer."
      ]
    },
    {
      "cell_type": "code",
      "execution_count": 21,
      "metadata": {
        "id": "eY68wlmOVfaU"
      },
      "outputs": [],
      "source": [
        "porc_nulos_borrar = 40\n",
        "# columnas a eliminar\n",
        "nulos_borrar = dict(filter(lambda x: x[1] > porc_nulos_borrar, nulos.items()))"
      ]
    },
    {
      "cell_type": "code",
      "execution_count": 22,
      "metadata": {
        "colab": {
          "base_uri": "https://localhost:8080/"
        },
        "id": "xsM7OnkIV4Xf",
        "outputId": "031f7d23-ed9b-4b77-d090-5ce05c4e35cf"
      },
      "outputs": [
        {
          "name": "stdout",
          "output_type": "stream",
          "text": [
            "Hemos eliminado 31 variables\n"
          ]
        }
      ],
      "source": [
        "variables_borrar = nulos_borrar.keys()\n",
        "# Eliminamos las columnas con un alto % de nulos\n",
        "datos.drop(variables_borrar, axis = 1, inplace = True)\n",
        "print(f\"Hemos eliminado {len(variables_borrar)} variables\")"
      ]
    },
    {
      "cell_type": "markdown",
      "metadata": {
        "id": "sxsFM1ezXnPz"
      },
      "source": [
        "#### Usamos imputer"
      ]
    },
    {
      "cell_type": "code",
      "execution_count": 23,
      "metadata": {
        "id": "pO-NsOnaaCM1"
      },
      "outputs": [],
      "source": [
        "columnas_numericas = df_balanced.select_dtypes(include = ['int64', 'float64']).columns"
      ]
    },
    {
      "cell_type": "code",
      "execution_count": 24,
      "metadata": {
        "id": "2uQ_Hfu9b7nl"
      },
      "outputs": [],
      "source": [
        "columnas_numericas = columnas_numericas.drop('label')"
      ]
    },
    {
      "cell_type": "code",
      "execution_count": 25,
      "metadata": {
        "id": "UF5247bdXxOx"
      },
      "outputs": [],
      "source": [
        "# Crear el imputador KNN con un número de vecinos (por ejemplo, k=2)\n",
        "from sklearn.impute import SimpleImputer\n",
        "\n",
        "imputer = SimpleImputer(strategy='mean')  # Puedes cambiar a 'median' o 'most_frequent'\n",
        "X_train_imputed = pd.DataFrame(\n",
        "    imputer.fit_transform(df_balanced[columnas_numericas]),\n",
        "    columns=columnas_numericas\n",
        ")\n"
      ]
    },
    {
      "cell_type": "code",
      "execution_count": 26,
      "metadata": {
        "id": "LxEKsQwixVLI"
      },
      "outputs": [],
      "source": [
        "test_data = pd.DataFrame(imputer.transform(test_data[columnas_numericas]), columns=[columnas_numericas])"
      ]
    },
    {
      "cell_type": "markdown",
      "metadata": {
        "id": "uVLpnYdyu1KW"
      },
      "source": [
        "## Separamos en train y test para entrenamiento"
      ]
    },
    {
      "cell_type": "code",
      "execution_count": 27,
      "metadata": {
        "id": "jTQFbEIySVVK"
      },
      "outputs": [],
      "source": [
        "cols_datos = X_train_imputed.columns[X_train_imputed.columns != TARGET]"
      ]
    },
    {
      "cell_type": "code",
      "execution_count": 28,
      "metadata": {
        "id": "jQP-DHxyu0oY"
      },
      "outputs": [],
      "source": [
        "X_train, X_test, y_train, y_test = train_test_split(\n",
        "    X_train_imputed[cols_datos], df_balanced[TARGET], test_size=0.2, stratify=df_balanced[TARGET], random_state=42\n",
        ")"
      ]
    },
    {
      "cell_type": "markdown",
      "metadata": {
        "id": "NCzoSrJkvDcj"
      },
      "source": [
        "## Seleccionamos las columnas de entrenamiento"
      ]
    },
    {
      "cell_type": "code",
      "execution_count": 29,
      "metadata": {
        "id": "XkclO5yovHsa"
      },
      "outputs": [],
      "source": [
        "columnas_train = list(set(['Infraction_SBF','Infraction_JVWF','Infraction_HPLO','Infraction_QGC','Infraction_EBA','Base_64022','Infraction_SVKR',\n",
        "                  'Infraction_MAN','Infraction_WWLN', 'Infraction_ADWZ', 'Payment_6804','Base_80863','Infraction_TLPJ','Base_85131',\n",
        "                  'Infraction_BSU','Infraction_ZYW','Infraction_TBP','Base_69608','Base_9103','Base_67254_enc',  'Payment_6804', 'Base_7744',\n",
        "                  'Base_80863', 'Risk_1930', 'Expenditure_JIG', 'Infraction_SNZ', 'Base_02683', 'Infraction_SBF', 'Infraction_ZWWJ', 'Infraction_QJJF',\n",
        "                  'Base_76065', 'Infraction_EJZ', 'Base_6872', 'Infraction_FMXQ', 'Infraction_GGO', 'Infraction_TLPJ', 'Infraction_NCB', 'Base_1165',\n",
        "                  'Base_39598', 'Base_6187', 'Infraction_CLLY', 'Infraction_ZTNC', 'Base_85131', 'Risk_9995', 'Infraction_AYWV', 'Payment_22507', 'Base_9516',\n",
        "                  'Infraction_GWL', 'Expenditure_YTR', 'Base_36384', 'Expenditure_HMO', 'Base_24406', 'Expenditure_LMSR', 'Infraction_BSU', 'Infraction_GEL',\n",
        "                  'Base_14808', 'Infraction_ZYW', 'Base_1039', 'Infraction_HSSU', 'Infraction_EHZP', 'Infraction_TBP', 'Infraction_PBC', 'Base_0229', 'Base_8318',\n",
        "                  'Base_69608', 'Base_91828', 'Base_6852', 'Base_22178', 'Infraction_ZTYG', 'Infraction_ZVW', 'Base_3041', 'Infraction_JVWF', 'Payment_3207',\n",
        "                  'Infraction_QKZN', 'Infraction_CZE', 'Infraction_APIU', 'Infraction_JBR', 'Base_66195', 'Infraction_RXQH', 'Risk_5797', 'Base_67585',\n",
        "                  'Infraction_WEG', 'Base_9103', 'Expenditure_UIWS', 'Expenditure_ONEG', 'Expenditure_MTRQ', 'Expenditure_LAHK', 'Infraction_ETH',\n",
        "                  'Infraction_ZVHJ', 'Infraction_ANHZ', 'Base_2810', 'Risk_4561', 'Risk_8902', 'Infraction_HPLO', 'Infraction_QGC', 'Infraction_EBA',\n",
        "                  'Base_64022', 'Infraction_BGGU', 'Base_4569', 'Infraction_LMHK', 'Infraction_TPAF', 'Infraction_XEPQ', 'Infraction_ZMKI', 'Infraction_RKTA',\n",
        "                  'Infraction_IIZ', 'Infraction_KEJT', 'Infraction_QEY', 'Base_3958', 'Infraction_WLMI', 'Infraction_SVKR', 'Infraction_MAN', 'Infraction_WWLN',\n",
        "                  'Infraction_ZTLC', 'Base_67254_enc', 'Payment_6804', 'Base_7744', 'Base_80863', 'Expenditure_JIG', 'Base_02683', 'Infraction_SBF',\n",
        "                  'Infraction_ZWWJ', 'Infraction_QJJF', 'Base_76065', 'Infraction_EJZ', 'Infraction_TLPJ', 'Base_1165', 'Base_39598', 'Base_6187', 'Base_85131',\n",
        "                  'Infraction_AYWV', 'Base_9516', 'Base_36384', 'Expenditure_HMO', 'Infraction_BSU', 'Infraction_TBP', 'Infraction_PBC', 'Base_8318', 'Base_69608',\n",
        "                  'Base_6852', 'Base_3041', 'Infraction_CZE', 'Infraction_APIU', 'Infraction_JBR', 'Infraction_WEG', 'Base_9103', 'Base_2810', 'Risk_4561',\n",
        "                  'Risk_8902', 'Infraction_QGC', 'Base_4569', 'Base_3958','Payment_6804', 'Infraction_CGP', 'Base_7744', 'Base_80863', 'Risk_1930',\n",
        "                  'Expenditure_JIG', 'Infraction_SNZ', 'Base_02683', 'Infraction_SBF', 'Infraction_ZWWJ', 'Base_76065', 'Base_6872', 'Infraction_FMXQ',\n",
        "                  'Infraction_GGO', 'Infraction_TLPJ', 'Base_39598', 'Base_6187', 'Infraction_CLLY', 'Infraction_ZTNC', 'Risk_9995', 'Payment_22507',\n",
        "                  'Infraction_GWL', 'Base_36384', 'Expenditure_FIP', 'Infraction_PAS', 'Expenditure_HMO', 'Base_24406', 'Expenditure_LMSR', 'Infraction_GEL',\n",
        "                  'Base_14808', 'Risk_8065', 'Infraction_ZYW', 'Expenditure_KMW', 'Base_1039', 'Infraction_HSSU', 'Infraction_TBP', 'Base_0580', 'Expenditure_RGD',\n",
        "                  'Infraction_PBC', 'Base_69608', 'Base_91828', 'Infraction_HPS', 'Base_6852', 'Expenditure_BWX', 'Infraction_JYZB', 'Base_22178', 'Infraction_ZTYG',\n",
        "                  'Base_3041', 'Infraction_JVWF', 'Infraction_QKZN', 'Infraction_CZE', 'Infraction_APIU', 'Infraction_JBR', 'Base_66195', 'Risk_5797',\n",
        "                  'Expenditure_HRQ', 'Infraction_VTR', 'Risk_4804', 'Base_67585', 'Risk_4247', 'Risk_0454', 'Base_8379', 'Infraction_WEG', 'Base_9103',\n",
        "                  'Infraction_KSBR', 'Infraction_WVC', 'Risk_8532', 'Infraction_IMIM', 'Expenditure_UIWS', 'Expenditure_MTRQ', 'Infraction_ETH', 'Base_2810',\n",
        "                  'Risk_4561', 'Risk_8902', 'Infraction_QGC', 'Infraction_EBA', 'Base_64022', 'Infraction_BGGU', 'Base_4569', 'Infraction_NMCB', 'Infraction_XEPQ',\n",
        "                  'Infraction_ZMKI', 'Infraction_RKTA', 'Infraction_KEJT', 'Infraction_WMAQ', 'Base_3958', 'Infraction_VHHP', 'Infraction_WLMI', 'Infraction_LIES',\n",
        "                  'Infraction_QWWW', 'Infraction_QGR', 'Infraction_LSX', 'Base_67254_enc', 'Infraction_TEN_enc']))\n"
      ]
    },
    {
      "cell_type": "code",
      "execution_count": 30,
      "metadata": {
        "colab": {
          "base_uri": "https://localhost:8080/"
        },
        "id": "8WHvtR3iwIZp",
        "outputId": "5b6a2db9-6ee3-4b85-80cf-9d9c09681cf0"
      },
      "outputs": [
        {
          "name": "stdout",
          "output_type": "stream",
          "text": [
            "Hay 123 columnas de entrenamiento\n"
          ]
        }
      ],
      "source": [
        "print(f\"Hay {len(columnas_train)} columnas de entrenamiento\")"
      ]
    },
    {
      "cell_type": "markdown",
      "metadata": {
        "id": "isuEuiqztynb"
      },
      "source": [
        "## Entrenamos el modelo"
      ]
    },
    {
      "cell_type": "code",
      "execution_count": 32,
      "metadata": {},
      "outputs": [
        {
          "name": "stderr",
          "output_type": "stream",
          "text": [
            "c:\\Python310\\lib\\site-packages\\xgboost\\training.py:183: UserWarning: [19:55:58] WARNING: C:\\actions-runner\\_work\\xgboost\\xgboost\\src\\learner.cc:738: \n",
            "Parameters: { \"use_label_encoder\" } are not used.\n",
            "\n",
            "  bst.update(dtrain, iteration=i, fobj=obj)\n"
          ]
        },
        {
          "name": "stdout",
          "output_type": "stream",
          "text": [
            "AUC del modelo: 0.9425\n",
            "Matriz de confusion: [[5525  476]\n",
            " [ 214 5787]]\n"
          ]
        }
      ],
      "source": [
        "best_params_gb = {'colsample_bytree':0.7426112300589203,\n",
        "'learning_rate':0.24950785363900532,\n",
        "'max_depth':7,\n",
        "'n_estimators':200,\n",
        "'subsample':0.9404357846919617}\n",
        "\n",
        "# Crear el modelo XGBClassifier\n",
        "model = xgb.XGBClassifier(use_label_encoder=False, eval_metric='mlogloss')\n",
        "model = xgb.XGBClassifier(\n",
        "    **best_params_gb,       # Tasa de aprendizaje\n",
        "    use_label_encoder=False,\n",
        "    eval_metric='mlogloss'\n",
        ")\n",
        "# Tenemos que modificar la target porque XGBoost solo trabaja con valores de 0, 1 en la target\n",
        "# Y nuestra target original tomaba valores de -1 y 1.\n",
        "y_train_modified = np.where(y_train == -1, 0, y_train)\n",
        "y_test_modified = np.where(y_test == -1, 0, y_test)\n",
        "# Entrenar el modelo con los datos de entrenamiento\n",
        "model.fit(X_train[columnas_train], y_train_modified)\n",
        "\n",
        "# Hacer predicciones sobre los datos de prueba\n",
        "y_pred = model.predict(X_test[columnas_train])\n",
        "\n",
        "# Evaluar el rendimiento del modelo\n",
        "accuracy = accuracy_score(y_test_modified, y_pred)\n",
        "print(f'AUC del modelo: {accuracy:.4f}')\n",
        "print(f'Matriz de confusion: {confusion_matrix(y_test_modified, y_pred)}')"
      ]
    },
    {
      "cell_type": "code",
      "execution_count": 33,
      "metadata": {},
      "outputs": [
        {
          "name": "stdout",
          "output_type": "stream",
          "text": [
            "\n",
            "Top 20 variables más importantes según SHAP:\n",
            "             feature  importance\n",
            "38      Payment_6804    1.142610\n",
            "53    Infraction_EJZ    0.315103\n",
            "122       Base_76065    0.274320\n",
            "0     Infraction_GGO    0.271449\n",
            "71   Infraction_TLPJ    0.269890\n",
            "101  Infraction_RKTA    0.248876\n",
            "73    Infraction_CZE    0.245176\n",
            "112       Base_02683    0.230807\n",
            "108   Infraction_BSU    0.207591\n",
            "31   Infraction_FMXQ    0.207177\n",
            "115   Infraction_TBP    0.195766\n",
            "14   Expenditure_JIG    0.193733\n",
            "26         Base_7744    0.186821\n",
            "66         Risk_8902    0.179421\n",
            "113  Infraction_AYWV    0.159296\n"
          ]
        },
        {
          "data": {
            "image/png": "[encoded data removed]",
            "text/plain": [
              "<Figure size 800x650 with 1 Axes>"
            ]
          },
          "metadata": {},
          "output_type": "display_data"
        }
      ],
      "source": [
        "import shap\n",
        "\n",
        "explainer = shap.Explainer(model)\n",
        "\n",
        "# Calcular valores SHAP para el set de entrenamiento\n",
        "shap_values = explainer(X_train[columnas_train])\n",
        "\n",
        "# Importancia media absoluta\n",
        "shap_importance = np.abs(shap_values.values).mean(axis=0)\n",
        "\n",
        "# Asociar cada valor a su columna\n",
        "importance_df = pd.DataFrame({\n",
        "    'feature': columnas_train,\n",
        "    'importance': shap_importance\n",
        "}).sort_values(by='importance', ascending=False)\n",
        "\n",
        "# Mostrar top 15 variables\n",
        "top_20 = importance_df.head(15)\n",
        "print(\"\\nTop 20 variables más importantes según SHAP:\")\n",
        "print(top_20)\n",
        "\n",
        "# =========================\n",
        "# Gráfico resumen SHAP\n",
        "# =========================\n",
        "shap.plots.bar(shap_values[:, top_20['feature'].values])"
      ]
    },
    {
      "cell_type": "code",
      "execution_count": 39,
      "metadata": {},
      "outputs": [],
      "source": [
        "import wandb\n",
        "from xgboost import XGBClassifier\n",
        "from sklearn.metrics import (\n",
        "    accuracy_score, precision_score, recall_score, f1_score, roc_auc_score,\n",
        "    confusion_matrix, roc_curve\n",
        ")\n",
        "from sklearn.model_selection import train_test_split\n",
        "import pandas as pd\n",
        "import numpy as np\n",
        "import matplotlib.pyplot as plt\n",
        "import seaborn as sns"
      ]
    },
    {
      "cell_type": "code",
      "execution_count": 40,
      "metadata": {},
      "outputs": [
        {
          "name": "stderr",
          "output_type": "stream",
          "text": [
            "\u001b[34m\u001b[1mwandb\u001b[0m: \u001b[33mWARNING\u001b[0m Calling wandb.login() after wandb.init() has no effect.\n"
          ]
        },
        {
          "name": "stdout",
          "output_type": "stream",
          "text": [
            "Create sweep with ID: rx64mbvc\n",
            "Sweep URL: https://wandb.ai/sofiaperezperez22-universidad-polit-cnica-de-madrid/Fraud-classification/sweeps/rx64mbvc\n"
          ]
        },
        {
          "name": "stderr",
          "output_type": "stream",
          "text": [
            "\u001b[34m\u001b[1mwandb\u001b[0m: Agent Starting Run: nmh8tmdu with config:\n",
            "\u001b[34m\u001b[1mwandb\u001b[0m: \tcolsample_bytree: 0.5698982144868683\n",
            "\u001b[34m\u001b[1mwandb\u001b[0m: \tlearning_rate: 0.09459712241950977\n",
            "\u001b[34m\u001b[1mwandb\u001b[0m: \tmax_depth: 3\n",
            "\u001b[34m\u001b[1mwandb\u001b[0m: \tn_estimators: 100\n",
            "\u001b[34m\u001b[1mwandb\u001b[0m: \tsubsample: 0.914351775457788\n"
          ]
        },
        {
          "data": {
            "text/html": [
              "Tracking run with wandb version 0.19.11"
            ],
            "text/plain": [
              "<IPython.core.display.HTML object>"
            ]
          },
          "metadata": {},
          "output_type": "display_data"
        },
        {
          "data": {
            "text/html": [
              "Run data is saved locally in <code>c:\\Users\\javier\\OneDrive\\Documentos\\Master\\MLOps\\upm-dl-mlops\\project\\notebooks\\wandb\\run-20250516_162046-nmh8tmdu</code>"
            ],
            "text/plain": [
              "<IPython.core.display.HTML object>"
            ]
          },
          "metadata": {},
          "output_type": "display_data"
        },
        {
          "data": {
            "text/html": [
              "Syncing run <strong><a href='https://wandb.ai/sofiaperezperez22-universidad-polit-cnica-de-madrid/Fraud-classification/runs/nmh8tmdu' target=\"_blank\">fast-sweep-1</a></strong> to <a href='https://wandb.ai/sofiaperezperez22-universidad-polit-cnica-de-madrid/Fraud-classification' target=\"_blank\">Weights & Biases</a> (<a href='https://wandb.me/developer-guide' target=\"_blank\">docs</a>)<br>Sweep page: <a href='https://wandb.ai/sofiaperezperez22-universidad-polit-cnica-de-madrid/Fraud-classification/sweeps/rx64mbvc' target=\"_blank\">https://wandb.ai/sofiaperezperez22-universidad-polit-cnica-de-madrid/Fraud-classification/sweeps/rx64mbvc</a>"
            ],
            "text/plain": [
              "<IPython.core.display.HTML object>"
            ]
          },
          "metadata": {},
          "output_type": "display_data"
        },
        {
          "data": {
            "text/html": [
              " View project at <a href='https://wandb.ai/sofiaperezperez22-universidad-polit-cnica-de-madrid/Fraud-classification' target=\"_blank\">https://wandb.ai/sofiaperezperez22-universidad-polit-cnica-de-madrid/Fraud-classification</a>"
            ],
            "text/plain": [
              "<IPython.core.display.HTML object>"
            ]
          },
          "metadata": {},
          "output_type": "display_data"
        },
        {
          "data": {
            "text/html": [
              " View sweep at <a href='https://wandb.ai/sofiaperezperez22-universidad-polit-cnica-de-madrid/Fraud-classification/sweeps/rx64mbvc' target=\"_blank\">https://wandb.ai/sofiaperezperez22-universidad-polit-cnica-de-madrid/Fraud-classification/sweeps/rx64mbvc</a>"
            ],
            "text/plain": [
              "<IPython.core.display.HTML object>"
            ]
          },
          "metadata": {},
          "output_type": "display_data"
        },
        {
          "data": {
            "text/html": [
              " View run at <a href='https://wandb.ai/sofiaperezperez22-universidad-polit-cnica-de-madrid/Fraud-classification/runs/nmh8tmdu' target=\"_blank\">https://wandb.ai/sofiaperezperez22-universidad-polit-cnica-de-madrid/Fraud-classification/runs/nmh8tmdu</a>"
            ],
            "text/plain": [
              "<IPython.core.display.HTML object>"
            ]
          },
          "metadata": {},
          "output_type": "display_data"
        },
        {
          "data": {
            "text/html": [],
            "text/plain": [
              "<IPython.core.display.HTML object>"
            ]
          },
          "metadata": {},
          "output_type": "display_data"
        },
        {
          "data": {
            "text/html": [
              "<br>    <style><br>        .wandb-row {<br>            display: flex;<br>            flex-direction: row;<br>            flex-wrap: wrap;<br>            justify-content: flex-start;<br>            width: 100%;<br>        }<br>        .wandb-col {<br>            display: flex;<br>            flex-direction: column;<br>            flex-basis: 100%;<br>            flex: 1;<br>            padding: 10px;<br>        }<br>    </style><br><div class=\"wandb-row\"><div class=\"wandb-col\"><h3>Run history:</h3><br/><table class=\"wandb\"><tr><td>accuracy</td><td>▁</td></tr><tr><td>auc</td><td>▁</td></tr><tr><td>f1_score</td><td>▁</td></tr><tr><td>precision</td><td>▁</td></tr><tr><td>recall</td><td>▁</td></tr></table><br/></div><div class=\"wandb-col\"><h3>Run summary:</h3><br/><table class=\"wandb\"><tr><td>accuracy</td><td>0.87344</td></tr><tr><td>auc</td><td>0.94157</td></tr><tr><td>f1_score</td><td>0.87773</td></tr><tr><td>precision</td><td>0.84896</td></tr><tr><td>recall</td><td>0.90852</td></tr></table><br/></div></div>"
            ],
            "text/plain": [
              "<IPython.core.display.HTML object>"
            ]
          },
          "metadata": {},
          "output_type": "display_data"
        },
        {
          "data": {
            "text/html": [
              " View run <strong style=\"color:#cdcd00\">fast-sweep-1</strong> at: <a href='https://wandb.ai/sofiaperezperez22-universidad-polit-cnica-de-madrid/Fraud-classification/runs/nmh8tmdu' target=\"_blank\">https://wandb.ai/sofiaperezperez22-universidad-polit-cnica-de-madrid/Fraud-classification/runs/nmh8tmdu</a><br> View project at: <a href='https://wandb.ai/sofiaperezperez22-universidad-polit-cnica-de-madrid/Fraud-classification' target=\"_blank\">https://wandb.ai/sofiaperezperez22-universidad-polit-cnica-de-madrid/Fraud-classification</a><br>Synced 5 W&B file(s), 3 media file(s), 4 artifact file(s) and 0 other file(s)"
            ],
            "text/plain": [
              "<IPython.core.display.HTML object>"
            ]
          },
          "metadata": {},
          "output_type": "display_data"
        },
        {
          "data": {
            "text/html": [
              "Find logs at: <code>.\\wandb\\run-20250516_162046-nmh8tmdu\\logs</code>"
            ],
            "text/plain": [
              "<IPython.core.display.HTML object>"
            ]
          },
          "metadata": {},
          "output_type": "display_data"
        },
        {
          "name": "stderr",
          "output_type": "stream",
          "text": [
            "\u001b[34m\u001b[1mwandb\u001b[0m: Agent Starting Run: hae7hpzf with config:\n",
            "\u001b[34m\u001b[1mwandb\u001b[0m: \tcolsample_bytree: 0.7925992387188434\n",
            "\u001b[34m\u001b[1mwandb\u001b[0m: \tlearning_rate: 0.2694114019095712\n",
            "\u001b[34m\u001b[1mwandb\u001b[0m: \tmax_depth: 5\n",
            "\u001b[34m\u001b[1mwandb\u001b[0m: \tn_estimators: 200\n",
            "\u001b[34m\u001b[1mwandb\u001b[0m: \tsubsample: 0.7779721767807994\n"
          ]
        },
        {
          "data": {
            "text/html": [
              "Tracking run with wandb version 0.19.11"
            ],
            "text/plain": [
              "<IPython.core.display.HTML object>"
            ]
          },
          "metadata": {},
          "output_type": "display_data"
        },
        {
          "data": {
            "text/html": [
              "Run data is saved locally in <code>c:\\Users\\javier\\OneDrive\\Documentos\\Master\\MLOps\\upm-dl-mlops\\project\\notebooks\\wandb\\run-20250516_162125-hae7hpzf</code>"
            ],
            "text/plain": [
              "<IPython.core.display.HTML object>"
            ]
          },
          "metadata": {},
          "output_type": "display_data"
        },
        {
          "data": {
            "text/html": [
              "Syncing run <strong><a href='https://wandb.ai/sofiaperezperez22-universidad-polit-cnica-de-madrid/Fraud-classification/runs/hae7hpzf' target=\"_blank\">dark-sweep-2</a></strong> to <a href='https://wandb.ai/sofiaperezperez22-universidad-polit-cnica-de-madrid/Fraud-classification' target=\"_blank\">Weights & Biases</a> (<a href='https://wandb.me/developer-guide' target=\"_blank\">docs</a>)<br>Sweep page: <a href='https://wandb.ai/sofiaperezperez22-universidad-polit-cnica-de-madrid/Fraud-classification/sweeps/rx64mbvc' target=\"_blank\">https://wandb.ai/sofiaperezperez22-universidad-polit-cnica-de-madrid/Fraud-classification/sweeps/rx64mbvc</a>"
            ],
            "text/plain": [
              "<IPython.core.display.HTML object>"
            ]
          },
          "metadata": {},
          "output_type": "display_data"
        },
        {
          "data": {
            "text/html": [
              " View project at <a href='https://wandb.ai/sofiaperezperez22-universidad-polit-cnica-de-madrid/Fraud-classification' target=\"_blank\">https://wandb.ai/sofiaperezperez22-universidad-polit-cnica-de-madrid/Fraud-classification</a>"
            ],
            "text/plain": [
              "<IPython.core.display.HTML object>"
            ]
          },
          "metadata": {},
          "output_type": "display_data"
        },
        {
          "data": {
            "text/html": [
              " View sweep at <a href='https://wandb.ai/sofiaperezperez22-universidad-polit-cnica-de-madrid/Fraud-classification/sweeps/rx64mbvc' target=\"_blank\">https://wandb.ai/sofiaperezperez22-universidad-polit-cnica-de-madrid/Fraud-classification/sweeps/rx64mbvc</a>"
            ],
            "text/plain": [
              "<IPython.core.display.HTML object>"
            ]
          },
          "metadata": {},
          "output_type": "display_data"
        },
        {
          "data": {
            "text/html": [
              " View run at <a href='https://wandb.ai/sofiaperezperez22-universidad-polit-cnica-de-madrid/Fraud-classification/runs/hae7hpzf' target=\"_blank\">https://wandb.ai/sofiaperezperez22-universidad-polit-cnica-de-madrid/Fraud-classification/runs/hae7hpzf</a>"
            ],
            "text/plain": [
              "<IPython.core.display.HTML object>"
            ]
          },
          "metadata": {},
          "output_type": "display_data"
        },
        {
          "data": {
            "text/html": [],
            "text/plain": [
              "<IPython.core.display.HTML object>"
            ]
          },
          "metadata": {},
          "output_type": "display_data"
        },
        {
          "data": {
            "text/html": [
              "<br>    <style><br>        .wandb-row {<br>            display: flex;<br>            flex-direction: row;<br>            flex-wrap: wrap;<br>            justify-content: flex-start;<br>            width: 100%;<br>        }<br>        .wandb-col {<br>            display: flex;<br>            flex-direction: column;<br>            flex-basis: 100%;<br>            flex: 1;<br>            padding: 10px;<br>        }<br>    </style><br><div class=\"wandb-row\"><div class=\"wandb-col\"><h3>Run history:</h3><br/><table class=\"wandb\"><tr><td>accuracy</td><td>▁</td></tr><tr><td>auc</td><td>▁</td></tr><tr><td>f1_score</td><td>▁</td></tr><tr><td>precision</td><td>▁</td></tr><tr><td>recall</td><td>▁</td></tr></table><br/></div><div class=\"wandb-col\"><h3>Run summary:</h3><br/><table class=\"wandb\"><tr><td>accuracy</td><td>0.91768</td></tr><tr><td>auc</td><td>0.97096</td></tr><tr><td>f1_score</td><td>0.91956</td></tr><tr><td>precision</td><td>0.89906</td></tr><tr><td>recall</td><td>0.94101</td></tr></table><br/></div></div>"
            ],
            "text/plain": [
              "<IPython.core.display.HTML object>"
            ]
          },
          "metadata": {},
          "output_type": "display_data"
        },
        {
          "data": {
            "text/html": [
              " View run <strong style=\"color:#cdcd00\">dark-sweep-2</strong> at: <a href='https://wandb.ai/sofiaperezperez22-universidad-polit-cnica-de-madrid/Fraud-classification/runs/hae7hpzf' target=\"_blank\">https://wandb.ai/sofiaperezperez22-universidad-polit-cnica-de-madrid/Fraud-classification/runs/hae7hpzf</a><br> View project at: <a href='https://wandb.ai/sofiaperezperez22-universidad-polit-cnica-de-madrid/Fraud-classification' target=\"_blank\">https://wandb.ai/sofiaperezperez22-universidad-polit-cnica-de-madrid/Fraud-classification</a><br>Synced 5 W&B file(s), 3 media file(s), 4 artifact file(s) and 0 other file(s)"
            ],
            "text/plain": [
              "<IPython.core.display.HTML object>"
            ]
          },
          "metadata": {},
          "output_type": "display_data"
        },
        {
          "data": {
            "text/html": [
              "Find logs at: <code>.\\wandb\\run-20250516_162125-hae7hpzf\\logs</code>"
            ],
            "text/plain": [
              "<IPython.core.display.HTML object>"
            ]
          },
          "metadata": {},
          "output_type": "display_data"
        },
        {
          "name": "stderr",
          "output_type": "stream",
          "text": [
            "\u001b[34m\u001b[1mwandb\u001b[0m: Agent Starting Run: ujacznvt with config:\n",
            "\u001b[34m\u001b[1mwandb\u001b[0m: \tcolsample_bytree: 0.7426112300589203\n",
            "\u001b[34m\u001b[1mwandb\u001b[0m: \tlearning_rate: 0.24950785363900532\n",
            "\u001b[34m\u001b[1mwandb\u001b[0m: \tmax_depth: 7\n",
            "\u001b[34m\u001b[1mwandb\u001b[0m: \tn_estimators: 200\n",
            "\u001b[34m\u001b[1mwandb\u001b[0m: \tsubsample: 0.9404357846919617\n"
          ]
        },
        {
          "data": {
            "text/html": [
              "Tracking run with wandb version 0.19.11"
            ],
            "text/plain": [
              "<IPython.core.display.HTML object>"
            ]
          },
          "metadata": {},
          "output_type": "display_data"
        },
        {
          "data": {
            "text/html": [
              "Run data is saved locally in <code>c:\\Users\\javier\\OneDrive\\Documentos\\Master\\MLOps\\upm-dl-mlops\\project\\notebooks\\wandb\\run-20250516_162154-ujacznvt</code>"
            ],
            "text/plain": [
              "<IPython.core.display.HTML object>"
            ]
          },
          "metadata": {},
          "output_type": "display_data"
        },
        {
          "data": {
            "text/html": [
              "Syncing run <strong><a href='https://wandb.ai/sofiaperezperez22-universidad-polit-cnica-de-madrid/Fraud-classification/runs/ujacznvt' target=\"_blank\">rural-sweep-3</a></strong> to <a href='https://wandb.ai/sofiaperezperez22-universidad-polit-cnica-de-madrid/Fraud-classification' target=\"_blank\">Weights & Biases</a> (<a href='https://wandb.me/developer-guide' target=\"_blank\">docs</a>)<br>Sweep page: <a href='https://wandb.ai/sofiaperezperez22-universidad-polit-cnica-de-madrid/Fraud-classification/sweeps/rx64mbvc' target=\"_blank\">https://wandb.ai/sofiaperezperez22-universidad-polit-cnica-de-madrid/Fraud-classification/sweeps/rx64mbvc</a>"
            ],
            "text/plain": [
              "<IPython.core.display.HTML object>"
            ]
          },
          "metadata": {},
          "output_type": "display_data"
        },
        {
          "data": {
            "text/html": [
              " View project at <a href='https://wandb.ai/sofiaperezperez22-universidad-polit-cnica-de-madrid/Fraud-classification' target=\"_blank\">https://wandb.ai/sofiaperezperez22-universidad-polit-cnica-de-madrid/Fraud-classification</a>"
            ],
            "text/plain": [
              "<IPython.core.display.HTML object>"
            ]
          },
          "metadata": {},
          "output_type": "display_data"
        },
        {
          "data": {
            "text/html": [
              " View sweep at <a href='https://wandb.ai/sofiaperezperez22-universidad-polit-cnica-de-madrid/Fraud-classification/sweeps/rx64mbvc' target=\"_blank\">https://wandb.ai/sofiaperezperez22-universidad-polit-cnica-de-madrid/Fraud-classification/sweeps/rx64mbvc</a>"
            ],
            "text/plain": [
              "<IPython.core.display.HTML object>"
            ]
          },
          "metadata": {},
          "output_type": "display_data"
        },
        {
          "data": {
            "text/html": [
              " View run at <a href='https://wandb.ai/sofiaperezperez22-universidad-polit-cnica-de-madrid/Fraud-classification/runs/ujacznvt' target=\"_blank\">https://wandb.ai/sofiaperezperez22-universidad-polit-cnica-de-madrid/Fraud-classification/runs/ujacznvt</a>"
            ],
            "text/plain": [
              "<IPython.core.display.HTML object>"
            ]
          },
          "metadata": {},
          "output_type": "display_data"
        },
        {
          "data": {
            "text/html": [],
            "text/plain": [
              "<IPython.core.display.HTML object>"
            ]
          },
          "metadata": {},
          "output_type": "display_data"
        },
        {
          "data": {
            "text/html": [
              "<br>    <style><br>        .wandb-row {<br>            display: flex;<br>            flex-direction: row;<br>            flex-wrap: wrap;<br>            justify-content: flex-start;<br>            width: 100%;<br>        }<br>        .wandb-col {<br>            display: flex;<br>            flex-direction: column;<br>            flex-basis: 100%;<br>            flex: 1;<br>            padding: 10px;<br>        }<br>    </style><br><div class=\"wandb-row\"><div class=\"wandb-col\"><h3>Run history:</h3><br/><table class=\"wandb\"><tr><td>accuracy</td><td>▁</td></tr><tr><td>auc</td><td>▁</td></tr><tr><td>f1_score</td><td>▁</td></tr><tr><td>precision</td><td>▁</td></tr><tr><td>recall</td><td>▁</td></tr></table><br/></div><div class=\"wandb-col\"><h3>Run summary:</h3><br/><table class=\"wandb\"><tr><td>accuracy</td><td>0.93793</td></tr><tr><td>auc</td><td>0.98322</td></tr><tr><td>f1_score</td><td>0.93935</td></tr><tr><td>precision</td><td>0.91834</td></tr><tr><td>recall</td><td>0.96134</td></tr></table><br/></div></div>"
            ],
            "text/plain": [
              "<IPython.core.display.HTML object>"
            ]
          },
          "metadata": {},
          "output_type": "display_data"
        },
        {
          "data": {
            "text/html": [
              " View run <strong style=\"color:#cdcd00\">rural-sweep-3</strong> at: <a href='https://wandb.ai/sofiaperezperez22-universidad-polit-cnica-de-madrid/Fraud-classification/runs/ujacznvt' target=\"_blank\">https://wandb.ai/sofiaperezperez22-universidad-polit-cnica-de-madrid/Fraud-classification/runs/ujacznvt</a><br> View project at: <a href='https://wandb.ai/sofiaperezperez22-universidad-polit-cnica-de-madrid/Fraud-classification' target=\"_blank\">https://wandb.ai/sofiaperezperez22-universidad-polit-cnica-de-madrid/Fraud-classification</a><br>Synced 5 W&B file(s), 3 media file(s), 4 artifact file(s) and 0 other file(s)"
            ],
            "text/plain": [
              "<IPython.core.display.HTML object>"
            ]
          },
          "metadata": {},
          "output_type": "display_data"
        },
        {
          "data": {
            "text/html": [
              "Find logs at: <code>.\\wandb\\run-20250516_162154-ujacznvt\\logs</code>"
            ],
            "text/plain": [
              "<IPython.core.display.HTML object>"
            ]
          },
          "metadata": {},
          "output_type": "display_data"
        },
        {
          "name": "stderr",
          "output_type": "stream",
          "text": [
            "\u001b[34m\u001b[1mwandb\u001b[0m: Agent Starting Run: fnktqk6i with config:\n",
            "\u001b[34m\u001b[1mwandb\u001b[0m: \tcolsample_bytree: 0.6029684980514997\n",
            "\u001b[34m\u001b[1mwandb\u001b[0m: \tlearning_rate: 0.149265441528333\n",
            "\u001b[34m\u001b[1mwandb\u001b[0m: \tmax_depth: 5\n",
            "\u001b[34m\u001b[1mwandb\u001b[0m: \tn_estimators: 300\n",
            "\u001b[34m\u001b[1mwandb\u001b[0m: \tsubsample: 0.8394734454130641\n"
          ]
        },
        {
          "data": {
            "text/html": [
              "Tracking run with wandb version 0.19.11"
            ],
            "text/plain": [
              "<IPython.core.display.HTML object>"
            ]
          },
          "metadata": {},
          "output_type": "display_data"
        },
        {
          "data": {
            "text/html": [
              "Run data is saved locally in <code>c:\\Users\\javier\\OneDrive\\Documentos\\Master\\MLOps\\upm-dl-mlops\\project\\notebooks\\wandb\\run-20250516_162231-fnktqk6i</code>"
            ],
            "text/plain": [
              "<IPython.core.display.HTML object>"
            ]
          },
          "metadata": {},
          "output_type": "display_data"
        },
        {
          "data": {
            "text/html": [
              "Syncing run <strong><a href='https://wandb.ai/sofiaperezperez22-universidad-polit-cnica-de-madrid/Fraud-classification/runs/fnktqk6i' target=\"_blank\">logical-sweep-4</a></strong> to <a href='https://wandb.ai/sofiaperezperez22-universidad-polit-cnica-de-madrid/Fraud-classification' target=\"_blank\">Weights & Biases</a> (<a href='https://wandb.me/developer-guide' target=\"_blank\">docs</a>)<br>Sweep page: <a href='https://wandb.ai/sofiaperezperez22-universidad-polit-cnica-de-madrid/Fraud-classification/sweeps/rx64mbvc' target=\"_blank\">https://wandb.ai/sofiaperezperez22-universidad-polit-cnica-de-madrid/Fraud-classification/sweeps/rx64mbvc</a>"
            ],
            "text/plain": [
              "<IPython.core.display.HTML object>"
            ]
          },
          "metadata": {},
          "output_type": "display_data"
        },
        {
          "data": {
            "text/html": [
              " View project at <a href='https://wandb.ai/sofiaperezperez22-universidad-polit-cnica-de-madrid/Fraud-classification' target=\"_blank\">https://wandb.ai/sofiaperezperez22-universidad-polit-cnica-de-madrid/Fraud-classification</a>"
            ],
            "text/plain": [
              "<IPython.core.display.HTML object>"
            ]
          },
          "metadata": {},
          "output_type": "display_data"
        },
        {
          "data": {
            "text/html": [
              " View sweep at <a href='https://wandb.ai/sofiaperezperez22-universidad-polit-cnica-de-madrid/Fraud-classification/sweeps/rx64mbvc' target=\"_blank\">https://wandb.ai/sofiaperezperez22-universidad-polit-cnica-de-madrid/Fraud-classification/sweeps/rx64mbvc</a>"
            ],
            "text/plain": [
              "<IPython.core.display.HTML object>"
            ]
          },
          "metadata": {},
          "output_type": "display_data"
        },
        {
          "data": {
            "text/html": [
              " View run at <a href='https://wandb.ai/sofiaperezperez22-universidad-polit-cnica-de-madrid/Fraud-classification/runs/fnktqk6i' target=\"_blank\">https://wandb.ai/sofiaperezperez22-universidad-polit-cnica-de-madrid/Fraud-classification/runs/fnktqk6i</a>"
            ],
            "text/plain": [
              "<IPython.core.display.HTML object>"
            ]
          },
          "metadata": {},
          "output_type": "display_data"
        },
        {
          "data": {
            "text/html": [],
            "text/plain": [
              "<IPython.core.display.HTML object>"
            ]
          },
          "metadata": {},
          "output_type": "display_data"
        },
        {
          "data": {
            "text/html": [
              "<br>    <style><br>        .wandb-row {<br>            display: flex;<br>            flex-direction: row;<br>            flex-wrap: wrap;<br>            justify-content: flex-start;<br>            width: 100%;<br>        }<br>        .wandb-col {<br>            display: flex;<br>            flex-direction: column;<br>            flex-basis: 100%;<br>            flex: 1;<br>            padding: 10px;<br>        }<br>    </style><br><div class=\"wandb-row\"><div class=\"wandb-col\"><h3>Run history:</h3><br/><table class=\"wandb\"><tr><td>accuracy</td><td>▁</td></tr><tr><td>auc</td><td>▁</td></tr><tr><td>f1_score</td><td>▁</td></tr><tr><td>precision</td><td>▁</td></tr><tr><td>recall</td><td>▁</td></tr></table><br/></div><div class=\"wandb-col\"><h3>Run summary:</h3><br/><table class=\"wandb\"><tr><td>accuracy</td><td>0.91793</td></tr><tr><td>auc</td><td>0.97164</td></tr><tr><td>f1_score</td><td>0.92007</td></tr><tr><td>precision</td><td>0.89671</td></tr><tr><td>recall</td><td>0.94468</td></tr></table><br/></div></div>"
            ],
            "text/plain": [
              "<IPython.core.display.HTML object>"
            ]
          },
          "metadata": {},
          "output_type": "display_data"
        },
        {
          "data": {
            "text/html": [
              " View run <strong style=\"color:#cdcd00\">logical-sweep-4</strong> at: <a href='https://wandb.ai/sofiaperezperez22-universidad-polit-cnica-de-madrid/Fraud-classification/runs/fnktqk6i' target=\"_blank\">https://wandb.ai/sofiaperezperez22-universidad-polit-cnica-de-madrid/Fraud-classification/runs/fnktqk6i</a><br> View project at: <a href='https://wandb.ai/sofiaperezperez22-universidad-polit-cnica-de-madrid/Fraud-classification' target=\"_blank\">https://wandb.ai/sofiaperezperez22-universidad-polit-cnica-de-madrid/Fraud-classification</a><br>Synced 5 W&B file(s), 3 media file(s), 4 artifact file(s) and 0 other file(s)"
            ],
            "text/plain": [
              "<IPython.core.display.HTML object>"
            ]
          },
          "metadata": {},
          "output_type": "display_data"
        },
        {
          "data": {
            "text/html": [
              "Find logs at: <code>.\\wandb\\run-20250516_162231-fnktqk6i\\logs</code>"
            ],
            "text/plain": [
              "<IPython.core.display.HTML object>"
            ]
          },
          "metadata": {},
          "output_type": "display_data"
        },
        {
          "name": "stderr",
          "output_type": "stream",
          "text": [
            "\u001b[34m\u001b[1mwandb\u001b[0m: Agent Starting Run: kvs30531 with config:\n",
            "\u001b[34m\u001b[1mwandb\u001b[0m: \tcolsample_bytree: 0.6366693657135929\n",
            "\u001b[34m\u001b[1mwandb\u001b[0m: \tlearning_rate: 0.036361700870024355\n",
            "\u001b[34m\u001b[1mwandb\u001b[0m: \tmax_depth: 7\n",
            "\u001b[34m\u001b[1mwandb\u001b[0m: \tn_estimators: 100\n",
            "\u001b[34m\u001b[1mwandb\u001b[0m: \tsubsample: 0.6908714929992088\n"
          ]
        },
        {
          "data": {
            "text/html": [
              "Tracking run with wandb version 0.19.11"
            ],
            "text/plain": [
              "<IPython.core.display.HTML object>"
            ]
          },
          "metadata": {},
          "output_type": "display_data"
        },
        {
          "data": {
            "text/html": [
              "Run data is saved locally in <code>c:\\Users\\javier\\OneDrive\\Documentos\\Master\\MLOps\\upm-dl-mlops\\project\\notebooks\\wandb\\run-20250516_162257-kvs30531</code>"
            ],
            "text/plain": [
              "<IPython.core.display.HTML object>"
            ]
          },
          "metadata": {},
          "output_type": "display_data"
        },
        {
          "data": {
            "text/html": [
              "Syncing run <strong><a href='https://wandb.ai/sofiaperezperez22-universidad-polit-cnica-de-madrid/Fraud-classification/runs/kvs30531' target=\"_blank\">glamorous-sweep-5</a></strong> to <a href='https://wandb.ai/sofiaperezperez22-universidad-polit-cnica-de-madrid/Fraud-classification' target=\"_blank\">Weights & Biases</a> (<a href='https://wandb.me/developer-guide' target=\"_blank\">docs</a>)<br>Sweep page: <a href='https://wandb.ai/sofiaperezperez22-universidad-polit-cnica-de-madrid/Fraud-classification/sweeps/rx64mbvc' target=\"_blank\">https://wandb.ai/sofiaperezperez22-universidad-polit-cnica-de-madrid/Fraud-classification/sweeps/rx64mbvc</a>"
            ],
            "text/plain": [
              "<IPython.core.display.HTML object>"
            ]
          },
          "metadata": {},
          "output_type": "display_data"
        },
        {
          "data": {
            "text/html": [
              " View project at <a href='https://wandb.ai/sofiaperezperez22-universidad-polit-cnica-de-madrid/Fraud-classification' target=\"_blank\">https://wandb.ai/sofiaperezperez22-universidad-polit-cnica-de-madrid/Fraud-classification</a>"
            ],
            "text/plain": [
              "<IPython.core.display.HTML object>"
            ]
          },
          "metadata": {},
          "output_type": "display_data"
        },
        {
          "data": {
            "text/html": [
              " View sweep at <a href='https://wandb.ai/sofiaperezperez22-universidad-polit-cnica-de-madrid/Fraud-classification/sweeps/rx64mbvc' target=\"_blank\">https://wandb.ai/sofiaperezperez22-universidad-polit-cnica-de-madrid/Fraud-classification/sweeps/rx64mbvc</a>"
            ],
            "text/plain": [
              "<IPython.core.display.HTML object>"
            ]
          },
          "metadata": {},
          "output_type": "display_data"
        },
        {
          "data": {
            "text/html": [
              " View run at <a href='https://wandb.ai/sofiaperezperez22-universidad-polit-cnica-de-madrid/Fraud-classification/runs/kvs30531' target=\"_blank\">https://wandb.ai/sofiaperezperez22-universidad-polit-cnica-de-madrid/Fraud-classification/runs/kvs30531</a>"
            ],
            "text/plain": [
              "<IPython.core.display.HTML object>"
            ]
          },
          "metadata": {},
          "output_type": "display_data"
        },
        {
          "data": {
            "text/html": [],
            "text/plain": [
              "<IPython.core.display.HTML object>"
            ]
          },
          "metadata": {},
          "output_type": "display_data"
        },
        {
          "data": {
            "text/html": [
              "<br>    <style><br>        .wandb-row {<br>            display: flex;<br>            flex-direction: row;<br>            flex-wrap: wrap;<br>            justify-content: flex-start;<br>            width: 100%;<br>        }<br>        .wandb-col {<br>            display: flex;<br>            flex-direction: column;<br>            flex-basis: 100%;<br>            flex: 1;<br>            padding: 10px;<br>        }<br>    </style><br><div class=\"wandb-row\"><div class=\"wandb-col\"><h3>Run history:</h3><br/><table class=\"wandb\"><tr><td>accuracy</td><td>▁</td></tr><tr><td>auc</td><td>▁</td></tr><tr><td>f1_score</td><td>▁</td></tr><tr><td>precision</td><td>▁</td></tr><tr><td>recall</td><td>▁</td></tr></table><br/></div><div class=\"wandb-col\"><h3>Run summary:</h3><br/><table class=\"wandb\"><tr><td>accuracy</td><td>0.88677</td></tr><tr><td>auc</td><td>0.95401</td></tr><tr><td>f1_score</td><td>0.89101</td></tr><tr><td>precision</td><td>0.85884</td></tr><tr><td>recall</td><td>0.92568</td></tr></table><br/></div></div>"
            ],
            "text/plain": [
              "<IPython.core.display.HTML object>"
            ]
          },
          "metadata": {},
          "output_type": "display_data"
        },
        {
          "data": {
            "text/html": [
              " View run <strong style=\"color:#cdcd00\">glamorous-sweep-5</strong> at: <a href='https://wandb.ai/sofiaperezperez22-universidad-polit-cnica-de-madrid/Fraud-classification/runs/kvs30531' target=\"_blank\">https://wandb.ai/sofiaperezperez22-universidad-polit-cnica-de-madrid/Fraud-classification/runs/kvs30531</a><br> View project at: <a href='https://wandb.ai/sofiaperezperez22-universidad-polit-cnica-de-madrid/Fraud-classification' target=\"_blank\">https://wandb.ai/sofiaperezperez22-universidad-polit-cnica-de-madrid/Fraud-classification</a><br>Synced 5 W&B file(s), 3 media file(s), 4 artifact file(s) and 0 other file(s)"
            ],
            "text/plain": [
              "<IPython.core.display.HTML object>"
            ]
          },
          "metadata": {},
          "output_type": "display_data"
        },
        {
          "data": {
            "text/html": [
              "Find logs at: <code>.\\wandb\\run-20250516_162257-kvs30531\\logs</code>"
            ],
            "text/plain": [
              "<IPython.core.display.HTML object>"
            ]
          },
          "metadata": {},
          "output_type": "display_data"
        },
        {
          "name": "stderr",
          "output_type": "stream",
          "text": [
            "\u001b[34m\u001b[1mwandb\u001b[0m: Agent Starting Run: drjhub7j with config:\n",
            "\u001b[34m\u001b[1mwandb\u001b[0m: \tcolsample_bytree: 0.6406634163843701\n",
            "\u001b[34m\u001b[1mwandb\u001b[0m: \tlearning_rate: 0.13742547747962144\n",
            "\u001b[34m\u001b[1mwandb\u001b[0m: \tmax_depth: 5\n",
            "\u001b[34m\u001b[1mwandb\u001b[0m: \tn_estimators: 300\n",
            "\u001b[34m\u001b[1mwandb\u001b[0m: \tsubsample: 0.6228930390833805\n"
          ]
        },
        {
          "data": {
            "text/html": [
              "creating run (0.1s)"
            ],
            "text/plain": [
              "<IPython.core.display.HTML object>"
            ]
          },
          "metadata": {},
          "output_type": "display_data"
        },
        {
          "data": {
            "text/html": [
              "Tracking run with wandb version 0.19.11"
            ],
            "text/plain": [
              "<IPython.core.display.HTML object>"
            ]
          },
          "metadata": {},
          "output_type": "display_data"
        },
        {
          "data": {
            "text/html": [
              "Run data is saved locally in <code>c:\\Users\\javier\\OneDrive\\Documentos\\Master\\MLOps\\upm-dl-mlops\\project\\notebooks\\wandb\\run-20250516_162319-drjhub7j</code>"
            ],
            "text/plain": [
              "<IPython.core.display.HTML object>"
            ]
          },
          "metadata": {},
          "output_type": "display_data"
        },
        {
          "data": {
            "text/html": [
              "Syncing run <strong><a href='https://wandb.ai/sofiaperezperez22-universidad-polit-cnica-de-madrid/Fraud-classification/runs/drjhub7j' target=\"_blank\">legendary-sweep-6</a></strong> to <a href='https://wandb.ai/sofiaperezperez22-universidad-polit-cnica-de-madrid/Fraud-classification' target=\"_blank\">Weights & Biases</a> (<a href='https://wandb.me/developer-guide' target=\"_blank\">docs</a>)<br>Sweep page: <a href='https://wandb.ai/sofiaperezperez22-universidad-polit-cnica-de-madrid/Fraud-classification/sweeps/rx64mbvc' target=\"_blank\">https://wandb.ai/sofiaperezperez22-universidad-polit-cnica-de-madrid/Fraud-classification/sweeps/rx64mbvc</a>"
            ],
            "text/plain": [
              "<IPython.core.display.HTML object>"
            ]
          },
          "metadata": {},
          "output_type": "display_data"
        },
        {
          "data": {
            "text/html": [
              " View project at <a href='https://wandb.ai/sofiaperezperez22-universidad-polit-cnica-de-madrid/Fraud-classification' target=\"_blank\">https://wandb.ai/sofiaperezperez22-universidad-polit-cnica-de-madrid/Fraud-classification</a>"
            ],
            "text/plain": [
              "<IPython.core.display.HTML object>"
            ]
          },
          "metadata": {},
          "output_type": "display_data"
        },
        {
          "data": {
            "text/html": [
              " View sweep at <a href='https://wandb.ai/sofiaperezperez22-universidad-polit-cnica-de-madrid/Fraud-classification/sweeps/rx64mbvc' target=\"_blank\">https://wandb.ai/sofiaperezperez22-universidad-polit-cnica-de-madrid/Fraud-classification/sweeps/rx64mbvc</a>"
            ],
            "text/plain": [
              "<IPython.core.display.HTML object>"
            ]
          },
          "metadata": {},
          "output_type": "display_data"
        },
        {
          "data": {
            "text/html": [
              " View run at <a href='https://wandb.ai/sofiaperezperez22-universidad-polit-cnica-de-madrid/Fraud-classification/runs/drjhub7j' target=\"_blank\">https://wandb.ai/sofiaperezperez22-universidad-polit-cnica-de-madrid/Fraud-classification/runs/drjhub7j</a>"
            ],
            "text/plain": [
              "<IPython.core.display.HTML object>"
            ]
          },
          "metadata": {},
          "output_type": "display_data"
        },
        {
          "data": {
            "text/html": [],
            "text/plain": [
              "<IPython.core.display.HTML object>"
            ]
          },
          "metadata": {},
          "output_type": "display_data"
        },
        {
          "data": {
            "text/html": [
              "<br>    <style><br>        .wandb-row {<br>            display: flex;<br>            flex-direction: row;<br>            flex-wrap: wrap;<br>            justify-content: flex-start;<br>            width: 100%;<br>        }<br>        .wandb-col {<br>            display: flex;<br>            flex-direction: column;<br>            flex-basis: 100%;<br>            flex: 1;<br>            padding: 10px;<br>        }<br>    </style><br><div class=\"wandb-row\"><div class=\"wandb-col\"><h3>Run history:</h3><br/><table class=\"wandb\"><tr><td>accuracy</td><td>▁</td></tr><tr><td>auc</td><td>▁</td></tr><tr><td>f1_score</td><td>▁</td></tr><tr><td>precision</td><td>▁</td></tr><tr><td>recall</td><td>▁</td></tr></table><br/></div><div class=\"wandb-col\"><h3>Run summary:</h3><br/><table class=\"wandb\"><tr><td>accuracy</td><td>0.91185</td></tr><tr><td>auc</td><td>0.97008</td></tr><tr><td>f1_score</td><td>0.91407</td></tr><tr><td>precision</td><td>0.89162</td></tr><tr><td>recall</td><td>0.93768</td></tr></table><br/></div></div>"
            ],
            "text/plain": [
              "<IPython.core.display.HTML object>"
            ]
          },
          "metadata": {},
          "output_type": "display_data"
        },
        {
          "data": {
            "text/html": [
              " View run <strong style=\"color:#cdcd00\">legendary-sweep-6</strong> at: <a href='https://wandb.ai/sofiaperezperez22-universidad-polit-cnica-de-madrid/Fraud-classification/runs/drjhub7j' target=\"_blank\">https://wandb.ai/sofiaperezperez22-universidad-polit-cnica-de-madrid/Fraud-classification/runs/drjhub7j</a><br> View project at: <a href='https://wandb.ai/sofiaperezperez22-universidad-polit-cnica-de-madrid/Fraud-classification' target=\"_blank\">https://wandb.ai/sofiaperezperez22-universidad-polit-cnica-de-madrid/Fraud-classification</a><br>Synced 5 W&B file(s), 3 media file(s), 4 artifact file(s) and 0 other file(s)"
            ],
            "text/plain": [
              "<IPython.core.display.HTML object>"
            ]
          },
          "metadata": {},
          "output_type": "display_data"
        },
        {
          "data": {
            "text/html": [
              "Find logs at: <code>.\\wandb\\run-20250516_162319-drjhub7j\\logs</code>"
            ],
            "text/plain": [
              "<IPython.core.display.HTML object>"
            ]
          },
          "metadata": {},
          "output_type": "display_data"
        },
        {
          "name": "stderr",
          "output_type": "stream",
          "text": [
            "\u001b[34m\u001b[1mwandb\u001b[0m: Agent Starting Run: l22ssci6 with config:\n",
            "\u001b[34m\u001b[1mwandb\u001b[0m: \tcolsample_bytree: 0.6064032504573691\n",
            "\u001b[34m\u001b[1mwandb\u001b[0m: \tlearning_rate: 0.1542824958696834\n",
            "\u001b[34m\u001b[1mwandb\u001b[0m: \tmax_depth: 5\n",
            "\u001b[34m\u001b[1mwandb\u001b[0m: \tn_estimators: 100\n",
            "\u001b[34m\u001b[1mwandb\u001b[0m: \tsubsample: 0.8130478306383446\n"
          ]
        },
        {
          "data": {
            "text/html": [
              "Tracking run with wandb version 0.19.11"
            ],
            "text/plain": [
              "<IPython.core.display.HTML object>"
            ]
          },
          "metadata": {},
          "output_type": "display_data"
        },
        {
          "data": {
            "text/html": [
              "Run data is saved locally in <code>c:\\Users\\javier\\OneDrive\\Documentos\\Master\\MLOps\\upm-dl-mlops\\project\\notebooks\\wandb\\run-20250516_162346-l22ssci6</code>"
            ],
            "text/plain": [
              "<IPython.core.display.HTML object>"
            ]
          },
          "metadata": {},
          "output_type": "display_data"
        },
        {
          "data": {
            "text/html": [
              "Syncing run <strong><a href='https://wandb.ai/sofiaperezperez22-universidad-polit-cnica-de-madrid/Fraud-classification/runs/l22ssci6' target=\"_blank\">lively-sweep-7</a></strong> to <a href='https://wandb.ai/sofiaperezperez22-universidad-polit-cnica-de-madrid/Fraud-classification' target=\"_blank\">Weights & Biases</a> (<a href='https://wandb.me/developer-guide' target=\"_blank\">docs</a>)<br>Sweep page: <a href='https://wandb.ai/sofiaperezperez22-universidad-polit-cnica-de-madrid/Fraud-classification/sweeps/rx64mbvc' target=\"_blank\">https://wandb.ai/sofiaperezperez22-universidad-polit-cnica-de-madrid/Fraud-classification/sweeps/rx64mbvc</a>"
            ],
            "text/plain": [
              "<IPython.core.display.HTML object>"
            ]
          },
          "metadata": {},
          "output_type": "display_data"
        },
        {
          "data": {
            "text/html": [
              " View project at <a href='https://wandb.ai/sofiaperezperez22-universidad-polit-cnica-de-madrid/Fraud-classification' target=\"_blank\">https://wandb.ai/sofiaperezperez22-universidad-polit-cnica-de-madrid/Fraud-classification</a>"
            ],
            "text/plain": [
              "<IPython.core.display.HTML object>"
            ]
          },
          "metadata": {},
          "output_type": "display_data"
        },
        {
          "data": {
            "text/html": [
              " View sweep at <a href='https://wandb.ai/sofiaperezperez22-universidad-polit-cnica-de-madrid/Fraud-classification/sweeps/rx64mbvc' target=\"_blank\">https://wandb.ai/sofiaperezperez22-universidad-polit-cnica-de-madrid/Fraud-classification/sweeps/rx64mbvc</a>"
            ],
            "text/plain": [
              "<IPython.core.display.HTML object>"
            ]
          },
          "metadata": {},
          "output_type": "display_data"
        },
        {
          "data": {
            "text/html": [
              " View run at <a href='https://wandb.ai/sofiaperezperez22-universidad-polit-cnica-de-madrid/Fraud-classification/runs/l22ssci6' target=\"_blank\">https://wandb.ai/sofiaperezperez22-universidad-polit-cnica-de-madrid/Fraud-classification/runs/l22ssci6</a>"
            ],
            "text/plain": [
              "<IPython.core.display.HTML object>"
            ]
          },
          "metadata": {},
          "output_type": "display_data"
        },
        {
          "data": {
            "text/html": [],
            "text/plain": [
              "<IPython.core.display.HTML object>"
            ]
          },
          "metadata": {},
          "output_type": "display_data"
        },
        {
          "data": {
            "text/html": [
              "<br>    <style><br>        .wandb-row {<br>            display: flex;<br>            flex-direction: row;<br>            flex-wrap: wrap;<br>            justify-content: flex-start;<br>            width: 100%;<br>        }<br>        .wandb-col {<br>            display: flex;<br>            flex-direction: column;<br>            flex-basis: 100%;<br>            flex: 1;<br>            padding: 10px;<br>        }<br>    </style><br><div class=\"wandb-row\"><div class=\"wandb-col\"><h3>Run history:</h3><br/><table class=\"wandb\"><tr><td>accuracy</td><td>▁</td></tr><tr><td>auc</td><td>▁</td></tr><tr><td>f1_score</td><td>▁</td></tr><tr><td>precision</td><td>▁</td></tr><tr><td>recall</td><td>▁</td></tr></table><br/></div><div class=\"wandb-col\"><h3>Run summary:</h3><br/><table class=\"wandb\"><tr><td>accuracy</td><td>0.89485</td></tr><tr><td>auc</td><td>0.95857</td></tr><tr><td>f1_score</td><td>0.8977</td></tr><tr><td>precision</td><td>0.87403</td></tr><tr><td>recall</td><td>0.92268</td></tr></table><br/></div></div>"
            ],
            "text/plain": [
              "<IPython.core.display.HTML object>"
            ]
          },
          "metadata": {},
          "output_type": "display_data"
        },
        {
          "data": {
            "text/html": [
              " View run <strong style=\"color:#cdcd00\">lively-sweep-7</strong> at: <a href='https://wandb.ai/sofiaperezperez22-universidad-polit-cnica-de-madrid/Fraud-classification/runs/l22ssci6' target=\"_blank\">https://wandb.ai/sofiaperezperez22-universidad-polit-cnica-de-madrid/Fraud-classification/runs/l22ssci6</a><br> View project at: <a href='https://wandb.ai/sofiaperezperez22-universidad-polit-cnica-de-madrid/Fraud-classification' target=\"_blank\">https://wandb.ai/sofiaperezperez22-universidad-polit-cnica-de-madrid/Fraud-classification</a><br>Synced 5 W&B file(s), 3 media file(s), 4 artifact file(s) and 0 other file(s)"
            ],
            "text/plain": [
              "<IPython.core.display.HTML object>"
            ]
          },
          "metadata": {},
          "output_type": "display_data"
        },
        {
          "data": {
            "text/html": [
              "Find logs at: <code>.\\wandb\\run-20250516_162346-l22ssci6\\logs</code>"
            ],
            "text/plain": [
              "<IPython.core.display.HTML object>"
            ]
          },
          "metadata": {},
          "output_type": "display_data"
        },
        {
          "name": "stderr",
          "output_type": "stream",
          "text": [
            "\u001b[34m\u001b[1mwandb\u001b[0m: Sweep Agent: Waiting for job.\n",
            "\u001b[34m\u001b[1mwandb\u001b[0m: Job received.\n",
            "\u001b[34m\u001b[1mwandb\u001b[0m: Agent Starting Run: 7ywjixe5 with config:\n",
            "\u001b[34m\u001b[1mwandb\u001b[0m: \tcolsample_bytree: 0.8310898394305894\n",
            "\u001b[34m\u001b[1mwandb\u001b[0m: \tlearning_rate: 0.22472256968476836\n",
            "\u001b[34m\u001b[1mwandb\u001b[0m: \tmax_depth: 3\n",
            "\u001b[34m\u001b[1mwandb\u001b[0m: \tn_estimators: 100\n",
            "\u001b[34m\u001b[1mwandb\u001b[0m: \tsubsample: 0.7897597925484643\n"
          ]
        },
        {
          "data": {
            "text/html": [
              "Tracking run with wandb version 0.19.11"
            ],
            "text/plain": [
              "<IPython.core.display.HTML object>"
            ]
          },
          "metadata": {},
          "output_type": "display_data"
        },
        {
          "data": {
            "text/html": [
              "Run data is saved locally in <code>c:\\Users\\javier\\OneDrive\\Documentos\\Master\\MLOps\\upm-dl-mlops\\project\\notebooks\\wandb\\run-20250516_162412-7ywjixe5</code>"
            ],
            "text/plain": [
              "<IPython.core.display.HTML object>"
            ]
          },
          "metadata": {},
          "output_type": "display_data"
        },
        {
          "data": {
            "text/html": [
              "Syncing run <strong><a href='https://wandb.ai/sofiaperezperez22-universidad-polit-cnica-de-madrid/Fraud-classification/runs/7ywjixe5' target=\"_blank\">eager-sweep-8</a></strong> to <a href='https://wandb.ai/sofiaperezperez22-universidad-polit-cnica-de-madrid/Fraud-classification' target=\"_blank\">Weights & Biases</a> (<a href='https://wandb.me/developer-guide' target=\"_blank\">docs</a>)<br>Sweep page: <a href='https://wandb.ai/sofiaperezperez22-universidad-polit-cnica-de-madrid/Fraud-classification/sweeps/rx64mbvc' target=\"_blank\">https://wandb.ai/sofiaperezperez22-universidad-polit-cnica-de-madrid/Fraud-classification/sweeps/rx64mbvc</a>"
            ],
            "text/plain": [
              "<IPython.core.display.HTML object>"
            ]
          },
          "metadata": {},
          "output_type": "display_data"
        },
        {
          "data": {
            "text/html": [
              " View project at <a href='https://wandb.ai/sofiaperezperez22-universidad-polit-cnica-de-madrid/Fraud-classification' target=\"_blank\">https://wandb.ai/sofiaperezperez22-universidad-polit-cnica-de-madrid/Fraud-classification</a>"
            ],
            "text/plain": [
              "<IPython.core.display.HTML object>"
            ]
          },
          "metadata": {},
          "output_type": "display_data"
        },
        {
          "data": {
            "text/html": [
              " View sweep at <a href='https://wandb.ai/sofiaperezperez22-universidad-polit-cnica-de-madrid/Fraud-classification/sweeps/rx64mbvc' target=\"_blank\">https://wandb.ai/sofiaperezperez22-universidad-polit-cnica-de-madrid/Fraud-classification/sweeps/rx64mbvc</a>"
            ],
            "text/plain": [
              "<IPython.core.display.HTML object>"
            ]
          },
          "metadata": {},
          "output_type": "display_data"
        },
        {
          "data": {
            "text/html": [
              " View run at <a href='https://wandb.ai/sofiaperezperez22-universidad-polit-cnica-de-madrid/Fraud-classification/runs/7ywjixe5' target=\"_blank\">https://wandb.ai/sofiaperezperez22-universidad-polit-cnica-de-madrid/Fraud-classification/runs/7ywjixe5</a>"
            ],
            "text/plain": [
              "<IPython.core.display.HTML object>"
            ]
          },
          "metadata": {},
          "output_type": "display_data"
        },
        {
          "data": {
            "text/html": [],
            "text/plain": [
              "<IPython.core.display.HTML object>"
            ]
          },
          "metadata": {},
          "output_type": "display_data"
        },
        {
          "data": {
            "text/html": [
              "<br>    <style><br>        .wandb-row {<br>            display: flex;<br>            flex-direction: row;<br>            flex-wrap: wrap;<br>            justify-content: flex-start;<br>            width: 100%;<br>        }<br>        .wandb-col {<br>            display: flex;<br>            flex-direction: column;<br>            flex-basis: 100%;<br>            flex: 1;<br>            padding: 10px;<br>        }<br>    </style><br><div class=\"wandb-row\"><div class=\"wandb-col\"><h3>Run history:</h3><br/><table class=\"wandb\"><tr><td>accuracy</td><td>▁</td></tr><tr><td>auc</td><td>▁</td></tr><tr><td>f1_score</td><td>▁</td></tr><tr><td>precision</td><td>▁</td></tr><tr><td>recall</td><td>▁</td></tr></table><br/></div><div class=\"wandb-col\"><h3>Run summary:</h3><br/><table class=\"wandb\"><tr><td>accuracy</td><td>0.88385</td></tr><tr><td>auc</td><td>0.9492</td></tr><tr><td>f1_score</td><td>0.88727</td></tr><tr><td>precision</td><td>0.8619</td></tr><tr><td>recall</td><td>0.91418</td></tr></table><br/></div></div>"
            ],
            "text/plain": [
              "<IPython.core.display.HTML object>"
            ]
          },
          "metadata": {},
          "output_type": "display_data"
        },
        {
          "data": {
            "text/html": [
              " View run <strong style=\"color:#cdcd00\">eager-sweep-8</strong> at: <a href='https://wandb.ai/sofiaperezperez22-universidad-polit-cnica-de-madrid/Fraud-classification/runs/7ywjixe5' target=\"_blank\">https://wandb.ai/sofiaperezperez22-universidad-polit-cnica-de-madrid/Fraud-classification/runs/7ywjixe5</a><br> View project at: <a href='https://wandb.ai/sofiaperezperez22-universidad-polit-cnica-de-madrid/Fraud-classification' target=\"_blank\">https://wandb.ai/sofiaperezperez22-universidad-polit-cnica-de-madrid/Fraud-classification</a><br>Synced 5 W&B file(s), 3 media file(s), 4 artifact file(s) and 0 other file(s)"
            ],
            "text/plain": [
              "<IPython.core.display.HTML object>"
            ]
          },
          "metadata": {},
          "output_type": "display_data"
        },
        {
          "data": {
            "text/html": [
              "Find logs at: <code>.\\wandb\\run-20250516_162412-7ywjixe5\\logs</code>"
            ],
            "text/plain": [
              "<IPython.core.display.HTML object>"
            ]
          },
          "metadata": {},
          "output_type": "display_data"
        },
        {
          "name": "stderr",
          "output_type": "stream",
          "text": [
            "\u001b[34m\u001b[1mwandb\u001b[0m: Agent Starting Run: wfd8q9e3 with config:\n",
            "\u001b[34m\u001b[1mwandb\u001b[0m: \tcolsample_bytree: 0.920783241729449\n",
            "\u001b[34m\u001b[1mwandb\u001b[0m: \tlearning_rate: 0.12168561063375095\n",
            "\u001b[34m\u001b[1mwandb\u001b[0m: \tmax_depth: 7\n",
            "\u001b[34m\u001b[1mwandb\u001b[0m: \tn_estimators: 100\n",
            "\u001b[34m\u001b[1mwandb\u001b[0m: \tsubsample: 0.6866544692955805\n"
          ]
        },
        {
          "data": {
            "text/html": [
              "Tracking run with wandb version 0.19.11"
            ],
            "text/plain": [
              "<IPython.core.display.HTML object>"
            ]
          },
          "metadata": {},
          "output_type": "display_data"
        },
        {
          "data": {
            "text/html": [
              "Run data is saved locally in <code>c:\\Users\\javier\\OneDrive\\Documentos\\Master\\MLOps\\upm-dl-mlops\\project\\notebooks\\wandb\\run-20250516_162429-wfd8q9e3</code>"
            ],
            "text/plain": [
              "<IPython.core.display.HTML object>"
            ]
          },
          "metadata": {},
          "output_type": "display_data"
        },
        {
          "data": {
            "text/html": [
              "Syncing run <strong><a href='https://wandb.ai/sofiaperezperez22-universidad-polit-cnica-de-madrid/Fraud-classification/runs/wfd8q9e3' target=\"_blank\">comfy-sweep-9</a></strong> to <a href='https://wandb.ai/sofiaperezperez22-universidad-polit-cnica-de-madrid/Fraud-classification' target=\"_blank\">Weights & Biases</a> (<a href='https://wandb.me/developer-guide' target=\"_blank\">docs</a>)<br>Sweep page: <a href='https://wandb.ai/sofiaperezperez22-universidad-polit-cnica-de-madrid/Fraud-classification/sweeps/rx64mbvc' target=\"_blank\">https://wandb.ai/sofiaperezperez22-universidad-polit-cnica-de-madrid/Fraud-classification/sweeps/rx64mbvc</a>"
            ],
            "text/plain": [
              "<IPython.core.display.HTML object>"
            ]
          },
          "metadata": {},
          "output_type": "display_data"
        },
        {
          "data": {
            "text/html": [
              " View project at <a href='https://wandb.ai/sofiaperezperez22-universidad-polit-cnica-de-madrid/Fraud-classification' target=\"_blank\">https://wandb.ai/sofiaperezperez22-universidad-polit-cnica-de-madrid/Fraud-classification</a>"
            ],
            "text/plain": [
              "<IPython.core.display.HTML object>"
            ]
          },
          "metadata": {},
          "output_type": "display_data"
        },
        {
          "data": {
            "text/html": [
              " View sweep at <a href='https://wandb.ai/sofiaperezperez22-universidad-polit-cnica-de-madrid/Fraud-classification/sweeps/rx64mbvc' target=\"_blank\">https://wandb.ai/sofiaperezperez22-universidad-polit-cnica-de-madrid/Fraud-classification/sweeps/rx64mbvc</a>"
            ],
            "text/plain": [
              "<IPython.core.display.HTML object>"
            ]
          },
          "metadata": {},
          "output_type": "display_data"
        },
        {
          "data": {
            "text/html": [
              " View run at <a href='https://wandb.ai/sofiaperezperez22-universidad-polit-cnica-de-madrid/Fraud-classification/runs/wfd8q9e3' target=\"_blank\">https://wandb.ai/sofiaperezperez22-universidad-polit-cnica-de-madrid/Fraud-classification/runs/wfd8q9e3</a>"
            ],
            "text/plain": [
              "<IPython.core.display.HTML object>"
            ]
          },
          "metadata": {},
          "output_type": "display_data"
        },
        {
          "data": {
            "text/html": [],
            "text/plain": [
              "<IPython.core.display.HTML object>"
            ]
          },
          "metadata": {},
          "output_type": "display_data"
        },
        {
          "data": {
            "text/html": [
              "<br>    <style><br>        .wandb-row {<br>            display: flex;<br>            flex-direction: row;<br>            flex-wrap: wrap;<br>            justify-content: flex-start;<br>            width: 100%;<br>        }<br>        .wandb-col {<br>            display: flex;<br>            flex-direction: column;<br>            flex-basis: 100%;<br>            flex: 1;<br>            padding: 10px;<br>        }<br>    </style><br><div class=\"wandb-row\"><div class=\"wandb-col\"><h3>Run history:</h3><br/><table class=\"wandb\"><tr><td>accuracy</td><td>▁</td></tr><tr><td>auc</td><td>▁</td></tr><tr><td>f1_score</td><td>▁</td></tr><tr><td>precision</td><td>▁</td></tr><tr><td>recall</td><td>▁</td></tr></table><br/></div><div class=\"wandb-col\"><h3>Run summary:</h3><br/><table class=\"wandb\"><tr><td>accuracy</td><td>0.91093</td></tr><tr><td>auc</td><td>0.96927</td></tr><tr><td>f1_score</td><td>0.9136</td></tr><tr><td>precision</td><td>0.88701</td></tr><tr><td>recall</td><td>0.94184</td></tr></table><br/></div></div>"
            ],
            "text/plain": [
              "<IPython.core.display.HTML object>"
            ]
          },
          "metadata": {},
          "output_type": "display_data"
        },
        {
          "data": {
            "text/html": [
              " View run <strong style=\"color:#cdcd00\">comfy-sweep-9</strong> at: <a href='https://wandb.ai/sofiaperezperez22-universidad-polit-cnica-de-madrid/Fraud-classification/runs/wfd8q9e3' target=\"_blank\">https://wandb.ai/sofiaperezperez22-universidad-polit-cnica-de-madrid/Fraud-classification/runs/wfd8q9e3</a><br> View project at: <a href='https://wandb.ai/sofiaperezperez22-universidad-polit-cnica-de-madrid/Fraud-classification' target=\"_blank\">https://wandb.ai/sofiaperezperez22-universidad-polit-cnica-de-madrid/Fraud-classification</a><br>Synced 5 W&B file(s), 3 media file(s), 4 artifact file(s) and 0 other file(s)"
            ],
            "text/plain": [
              "<IPython.core.display.HTML object>"
            ]
          },
          "metadata": {},
          "output_type": "display_data"
        },
        {
          "data": {
            "text/html": [
              "Find logs at: <code>.\\wandb\\run-20250516_162429-wfd8q9e3\\logs</code>"
            ],
            "text/plain": [
              "<IPython.core.display.HTML object>"
            ]
          },
          "metadata": {},
          "output_type": "display_data"
        },
        {
          "name": "stderr",
          "output_type": "stream",
          "text": [
            "\u001b[34m\u001b[1mwandb\u001b[0m: Agent Starting Run: xw0tgwl3 with config:\n",
            "\u001b[34m\u001b[1mwandb\u001b[0m: \tcolsample_bytree: 0.6627554801435929\n",
            "\u001b[34m\u001b[1mwandb\u001b[0m: \tlearning_rate: 0.049427056385369865\n",
            "\u001b[34m\u001b[1mwandb\u001b[0m: \tmax_depth: 7\n",
            "\u001b[34m\u001b[1mwandb\u001b[0m: \tn_estimators: 200\n",
            "\u001b[34m\u001b[1mwandb\u001b[0m: \tsubsample: 0.7827104286493536\n"
          ]
        },
        {
          "data": {
            "text/html": [
              "creating run (0.0s)"
            ],
            "text/plain": [
              "<IPython.core.display.HTML object>"
            ]
          },
          "metadata": {},
          "output_type": "display_data"
        },
        {
          "data": {
            "text/html": [
              "Tracking run with wandb version 0.19.11"
            ],
            "text/plain": [
              "<IPython.core.display.HTML object>"
            ]
          },
          "metadata": {},
          "output_type": "display_data"
        },
        {
          "data": {
            "text/html": [
              "Run data is saved locally in <code>c:\\Users\\javier\\OneDrive\\Documentos\\Master\\MLOps\\upm-dl-mlops\\project\\notebooks\\wandb\\run-20250516_162451-xw0tgwl3</code>"
            ],
            "text/plain": [
              "<IPython.core.display.HTML object>"
            ]
          },
          "metadata": {},
          "output_type": "display_data"
        },
        {
          "data": {
            "text/html": [
              "Syncing run <strong><a href='https://wandb.ai/sofiaperezperez22-universidad-polit-cnica-de-madrid/Fraud-classification/runs/xw0tgwl3' target=\"_blank\">vital-sweep-10</a></strong> to <a href='https://wandb.ai/sofiaperezperez22-universidad-polit-cnica-de-madrid/Fraud-classification' target=\"_blank\">Weights & Biases</a> (<a href='https://wandb.me/developer-guide' target=\"_blank\">docs</a>)<br>Sweep page: <a href='https://wandb.ai/sofiaperezperez22-universidad-polit-cnica-de-madrid/Fraud-classification/sweeps/rx64mbvc' target=\"_blank\">https://wandb.ai/sofiaperezperez22-universidad-polit-cnica-de-madrid/Fraud-classification/sweeps/rx64mbvc</a>"
            ],
            "text/plain": [
              "<IPython.core.display.HTML object>"
            ]
          },
          "metadata": {},
          "output_type": "display_data"
        },
        {
          "data": {
            "text/html": [
              " View project at <a href='https://wandb.ai/sofiaperezperez22-universidad-polit-cnica-de-madrid/Fraud-classification' target=\"_blank\">https://wandb.ai/sofiaperezperez22-universidad-polit-cnica-de-madrid/Fraud-classification</a>"
            ],
            "text/plain": [
              "<IPython.core.display.HTML object>"
            ]
          },
          "metadata": {},
          "output_type": "display_data"
        },
        {
          "data": {
            "text/html": [
              " View sweep at <a href='https://wandb.ai/sofiaperezperez22-universidad-polit-cnica-de-madrid/Fraud-classification/sweeps/rx64mbvc' target=\"_blank\">https://wandb.ai/sofiaperezperez22-universidad-polit-cnica-de-madrid/Fraud-classification/sweeps/rx64mbvc</a>"
            ],
            "text/plain": [
              "<IPython.core.display.HTML object>"
            ]
          },
          "metadata": {},
          "output_type": "display_data"
        },
        {
          "data": {
            "text/html": [
              " View run at <a href='https://wandb.ai/sofiaperezperez22-universidad-polit-cnica-de-madrid/Fraud-classification/runs/xw0tgwl3' target=\"_blank\">https://wandb.ai/sofiaperezperez22-universidad-polit-cnica-de-madrid/Fraud-classification/runs/xw0tgwl3</a>"
            ],
            "text/plain": [
              "<IPython.core.display.HTML object>"
            ]
          },
          "metadata": {},
          "output_type": "display_data"
        },
        {
          "name": "stderr",
          "output_type": "stream",
          "text": [
            "\u001b[34m\u001b[1mwandb\u001b[0m: Network error (ConnectionError), entering retry loop.\n",
            "\u001b[34m\u001b[1mwandb\u001b[0m: Network error (ConnectionError), entering retry loop.\n"
          ]
        },
        {
          "data": {
            "text/html": [],
            "text/plain": [
              "<IPython.core.display.HTML object>"
            ]
          },
          "metadata": {},
          "output_type": "display_data"
        },
        {
          "data": {
            "text/html": [
              "<br>    <style><br>        .wandb-row {<br>            display: flex;<br>            flex-direction: row;<br>            flex-wrap: wrap;<br>            justify-content: flex-start;<br>            width: 100%;<br>        }<br>        .wandb-col {<br>            display: flex;<br>            flex-direction: column;<br>            flex-basis: 100%;<br>            flex: 1;<br>            padding: 10px;<br>        }<br>    </style><br><div class=\"wandb-row\"><div class=\"wandb-col\"><h3>Run history:</h3><br/><table class=\"wandb\"><tr><td>accuracy</td><td>▁</td></tr><tr><td>auc</td><td>▁</td></tr><tr><td>f1_score</td><td>▁</td></tr><tr><td>precision</td><td>▁</td></tr><tr><td>recall</td><td>▁</td></tr></table><br/></div><div class=\"wandb-col\"><h3>Run summary:</h3><br/><table class=\"wandb\"><tr><td>accuracy</td><td>0.90785</td></tr><tr><td>auc</td><td>0.96831</td></tr><tr><td>f1_score</td><td>0.91062</td></tr><tr><td>precision</td><td>0.88404</td></tr><tr><td>recall</td><td>0.93884</td></tr></table><br/></div></div>"
            ],
            "text/plain": [
              "<IPython.core.display.HTML object>"
            ]
          },
          "metadata": {},
          "output_type": "display_data"
        },
        {
          "data": {
            "text/html": [
              " View run <strong style=\"color:#cdcd00\">vital-sweep-10</strong> at: <a href='https://wandb.ai/sofiaperezperez22-universidad-polit-cnica-de-madrid/Fraud-classification/runs/xw0tgwl3' target=\"_blank\">https://wandb.ai/sofiaperezperez22-universidad-polit-cnica-de-madrid/Fraud-classification/runs/xw0tgwl3</a><br> View project at: <a href='https://wandb.ai/sofiaperezperez22-universidad-polit-cnica-de-madrid/Fraud-classification' target=\"_blank\">https://wandb.ai/sofiaperezperez22-universidad-polit-cnica-de-madrid/Fraud-classification</a><br>Synced 5 W&B file(s), 3 media file(s), 4 artifact file(s) and 0 other file(s)"
            ],
            "text/plain": [
              "<IPython.core.display.HTML object>"
            ]
          },
          "metadata": {},
          "output_type": "display_data"
        },
        {
          "data": {
            "text/html": [
              "Find logs at: <code>.\\wandb\\run-20250516_162451-xw0tgwl3\\logs</code>"
            ],
            "text/plain": [
              "<IPython.core.display.HTML object>"
            ]
          },
          "metadata": {},
          "output_type": "display_data"
        },
        {
          "name": "stdout",
          "output_type": "stream",
          "text": [
            "Error in callback <bound method _WandbInit._post_run_cell_hook of <wandb.sdk.wandb_init._WandbInit object at 0x00000284CEDE5780>> (for post_run_cell), with arguments args (<ExecutionResult object at 284f49661d0, execution_count=40 error_before_exec=None error_in_exec=None info=<ExecutionInfo object at 284f4966140, raw_cell=\"# Simula tus datos o carga los reales aquí\n",
            "from sk..\" store_history=True silent=False shell_futures=True cell_id=vscode-notebook-cell:/c%3A/Users/javier/OneDrive/Documentos/Master/MLOps/upm-dl-mlops/project/notebooks/best_model.ipynb#Y124sZmlsZQ%3D%3D> result=None>,),kwargs {}:\n"
          ]
        },
        {
          "ename": "ConnectionAbortedError",
          "evalue": "[WinError 10053] Se ha anulado una conexión establecida por el software en su equipo host",
          "output_type": "error",
          "traceback": [
            "\u001b[1;31m---------------------------------------------------------------------------\u001b[0m",
            "\u001b[1;31mConnectionAbortedError\u001b[0m                    Traceback (most recent call last)",
            "File \u001b[1;32mc:\\Python310\\lib\\site-packages\\wandb\\sdk\\wandb_init.py:614\u001b[0m, in \u001b[0;36m_WandbInit._post_run_cell_hook\u001b[1;34m(self, *args, **kwargs)\u001b[0m\n\u001b[0;32m    611\u001b[0m     \u001b[38;5;28;01mreturn\u001b[39;00m\n\u001b[0;32m    613\u001b[0m \u001b[38;5;28mself\u001b[39m\u001b[38;5;241m.\u001b[39m_logger\u001b[38;5;241m.\u001b[39minfo(\u001b[38;5;124m\"\u001b[39m\u001b[38;5;124mresuming backend\u001b[39m\u001b[38;5;124m\"\u001b[39m)\n\u001b[1;32m--> 614\u001b[0m \u001b[38;5;28;43mself\u001b[39;49m\u001b[38;5;241;43m.\u001b[39;49m\u001b[43mbackend\u001b[49m\u001b[38;5;241;43m.\u001b[39;49m\u001b[43minterface\u001b[49m\u001b[38;5;241;43m.\u001b[39;49m\u001b[43mpublish_resume\u001b[49m\u001b[43m(\u001b[49m\u001b[43m)\u001b[49m\n",
            "File \u001b[1;32mc:\\Python310\\lib\\site-packages\\wandb\\sdk\\interface\\interface.py:778\u001b[0m, in \u001b[0;36mInterfaceBase.publish_resume\u001b[1;34m(self)\u001b[0m\n\u001b[0;32m    776\u001b[0m \u001b[38;5;28;01mdef\u001b[39;00m\u001b[38;5;250m \u001b[39m\u001b[38;5;21mpublish_resume\u001b[39m(\u001b[38;5;28mself\u001b[39m) \u001b[38;5;241m-\u001b[39m\u001b[38;5;241m>\u001b[39m \u001b[38;5;28;01mNone\u001b[39;00m:\n\u001b[0;32m    777\u001b[0m     resume \u001b[38;5;241m=\u001b[39m pb\u001b[38;5;241m.\u001b[39mResumeRequest()\n\u001b[1;32m--> 778\u001b[0m     \u001b[38;5;28;43mself\u001b[39;49m\u001b[38;5;241;43m.\u001b[39;49m\u001b[43m_publish_resume\u001b[49m\u001b[43m(\u001b[49m\u001b[43mresume\u001b[49m\u001b[43m)\u001b[49m\n",
            "File \u001b[1;32mc:\\Python310\\lib\\site-packages\\wandb\\sdk\\interface\\interface_shared.py:293\u001b[0m, in \u001b[0;36mInterfaceShared._publish_resume\u001b[1;34m(self, resume)\u001b[0m\n\u001b[0;32m    291\u001b[0m \u001b[38;5;28;01mdef\u001b[39;00m\u001b[38;5;250m \u001b[39m\u001b[38;5;21m_publish_resume\u001b[39m(\u001b[38;5;28mself\u001b[39m, resume: pb\u001b[38;5;241m.\u001b[39mResumeRequest) \u001b[38;5;241m-\u001b[39m\u001b[38;5;241m>\u001b[39m \u001b[38;5;28;01mNone\u001b[39;00m:\n\u001b[0;32m    292\u001b[0m     rec \u001b[38;5;241m=\u001b[39m \u001b[38;5;28mself\u001b[39m\u001b[38;5;241m.\u001b[39m_make_request(resume\u001b[38;5;241m=\u001b[39mresume)\n\u001b[1;32m--> 293\u001b[0m     \u001b[38;5;28;43mself\u001b[39;49m\u001b[38;5;241;43m.\u001b[39;49m\u001b[43m_publish\u001b[49m\u001b[43m(\u001b[49m\u001b[43mrec\u001b[49m\u001b[43m)\u001b[49m\n",
            "File \u001b[1;32mc:\\Python310\\lib\\site-packages\\wandb\\sdk\\interface\\interface_sock.py:39\u001b[0m, in \u001b[0;36mInterfaceSock._publish\u001b[1;34m(self, record, local)\u001b[0m\n\u001b[0;32m     37\u001b[0m \u001b[38;5;28;01mdef\u001b[39;00m\u001b[38;5;250m \u001b[39m\u001b[38;5;21m_publish\u001b[39m(\u001b[38;5;28mself\u001b[39m, record: \u001b[38;5;124m\"\u001b[39m\u001b[38;5;124mpb.Record\u001b[39m\u001b[38;5;124m\"\u001b[39m, local: Optional[\u001b[38;5;28mbool\u001b[39m] \u001b[38;5;241m=\u001b[39m \u001b[38;5;28;01mNone\u001b[39;00m) \u001b[38;5;241m-\u001b[39m\u001b[38;5;241m>\u001b[39m \u001b[38;5;28;01mNone\u001b[39;00m:\n\u001b[0;32m     38\u001b[0m     \u001b[38;5;28mself\u001b[39m\u001b[38;5;241m.\u001b[39m_assign(record)\n\u001b[1;32m---> 39\u001b[0m     \u001b[38;5;28;43mself\u001b[39;49m\u001b[38;5;241;43m.\u001b[39;49m\u001b[43m_sock_client\u001b[49m\u001b[38;5;241;43m.\u001b[39;49m\u001b[43msend_record_publish\u001b[49m\u001b[43m(\u001b[49m\u001b[43mrecord\u001b[49m\u001b[43m)\u001b[49m\n",
            "File \u001b[1;32mc:\\Python310\\lib\\site-packages\\wandb\\sdk\\lib\\sock_client.py:174\u001b[0m, in \u001b[0;36mSockClient.send_record_publish\u001b[1;34m(self, record)\u001b[0m\n\u001b[0;32m    172\u001b[0m server_req\u001b[38;5;241m.\u001b[39mrequest_id \u001b[38;5;241m=\u001b[39m record\u001b[38;5;241m.\u001b[39mcontrol\u001b[38;5;241m.\u001b[39mmailbox_slot\n\u001b[0;32m    173\u001b[0m server_req\u001b[38;5;241m.\u001b[39mrecord_publish\u001b[38;5;241m.\u001b[39mCopyFrom(record)\n\u001b[1;32m--> 174\u001b[0m \u001b[38;5;28;43mself\u001b[39;49m\u001b[38;5;241;43m.\u001b[39;49m\u001b[43msend_server_request\u001b[49m\u001b[43m(\u001b[49m\u001b[43mserver_req\u001b[49m\u001b[43m)\u001b[49m\n",
            "File \u001b[1;32mc:\\Python310\\lib\\site-packages\\wandb\\sdk\\lib\\sock_client.py:154\u001b[0m, in \u001b[0;36mSockClient.send_server_request\u001b[1;34m(self, msg)\u001b[0m\n\u001b[0;32m    153\u001b[0m \u001b[38;5;28;01mdef\u001b[39;00m\u001b[38;5;250m \u001b[39m\u001b[38;5;21msend_server_request\u001b[39m(\u001b[38;5;28mself\u001b[39m, msg: spb\u001b[38;5;241m.\u001b[39mServerRequest) \u001b[38;5;241m-\u001b[39m\u001b[38;5;241m>\u001b[39m \u001b[38;5;28;01mNone\u001b[39;00m:\n\u001b[1;32m--> 154\u001b[0m     \u001b[38;5;28;43mself\u001b[39;49m\u001b[38;5;241;43m.\u001b[39;49m\u001b[43m_send_message\u001b[49m\u001b[43m(\u001b[49m\u001b[43mmsg\u001b[49m\u001b[43m)\u001b[49m\n",
            "File \u001b[1;32mc:\\Python310\\lib\\site-packages\\wandb\\sdk\\lib\\sock_client.py:151\u001b[0m, in \u001b[0;36mSockClient._send_message\u001b[1;34m(self, msg)\u001b[0m\n\u001b[0;32m    149\u001b[0m header \u001b[38;5;241m=\u001b[39m struct\u001b[38;5;241m.\u001b[39mpack(\u001b[38;5;124m\"\u001b[39m\u001b[38;5;124m<BI\u001b[39m\u001b[38;5;124m\"\u001b[39m, \u001b[38;5;28mord\u001b[39m(\u001b[38;5;124m\"\u001b[39m\u001b[38;5;124mW\u001b[39m\u001b[38;5;124m\"\u001b[39m), raw_size)\n\u001b[0;32m    150\u001b[0m \u001b[38;5;28;01mwith\u001b[39;00m \u001b[38;5;28mself\u001b[39m\u001b[38;5;241m.\u001b[39m_lock:\n\u001b[1;32m--> 151\u001b[0m     \u001b[38;5;28;43mself\u001b[39;49m\u001b[38;5;241;43m.\u001b[39;49m\u001b[43m_sendall_with_error_handle\u001b[49m\u001b[43m(\u001b[49m\u001b[43mheader\u001b[49m\u001b[43m \u001b[49m\u001b[38;5;241;43m+\u001b[39;49m\u001b[43m \u001b[49m\u001b[43mdata\u001b[49m\u001b[43m)\u001b[49m\n",
            "File \u001b[1;32mc:\\Python310\\lib\\site-packages\\wandb\\sdk\\lib\\sock_client.py:130\u001b[0m, in \u001b[0;36mSockClient._sendall_with_error_handle\u001b[1;34m(self, data)\u001b[0m\n\u001b[0;32m    128\u001b[0m start_time \u001b[38;5;241m=\u001b[39m time\u001b[38;5;241m.\u001b[39mmonotonic()\n\u001b[0;32m    129\u001b[0m \u001b[38;5;28;01mtry\u001b[39;00m:\n\u001b[1;32m--> 130\u001b[0m     sent \u001b[38;5;241m=\u001b[39m \u001b[38;5;28;43mself\u001b[39;49m\u001b[38;5;241;43m.\u001b[39;49m\u001b[43m_sock\u001b[49m\u001b[38;5;241;43m.\u001b[39;49m\u001b[43msend\u001b[49m\u001b[43m(\u001b[49m\u001b[43mdata\u001b[49m\u001b[43m)\u001b[49m\n\u001b[0;32m    131\u001b[0m     \u001b[38;5;66;03m# sent equal to 0 indicates a closed socket\u001b[39;00m\n\u001b[0;32m    132\u001b[0m     \u001b[38;5;28;01mif\u001b[39;00m sent \u001b[38;5;241m==\u001b[39m \u001b[38;5;241m0\u001b[39m:\n",
            "\u001b[1;31mConnectionAbortedError\u001b[0m: [WinError 10053] Se ha anulado una conexión establecida por el software en su equipo host"
          ]
        }
      ],
      "source": [
        "# Simula tus datos o carga los reales aquí\n",
        "from sklearn.datasets import make_classification\n",
        "\n",
        "def train():\n",
        "    wandb.init()\n",
        "    config = wandb.config\n",
        "\n",
        "    # Modelo con hiperparámetros desde wandb\n",
        "    model = XGBClassifier(\n",
        "        n_estimators=config.n_estimators,\n",
        "        learning_rate=config.learning_rate,\n",
        "        max_depth=config.max_depth,\n",
        "        subsample=config.subsample,\n",
        "        colsample_bytree=config.colsample_bytree,\n",
        "        use_label_encoder=False,\n",
        "        eval_metric='logloss'\n",
        "    )\n",
        "\n",
        "    model.fit(X_train[columnas_train], y_train_modified)\n",
        "    y_pred = model.predict(X_test[columnas_train])\n",
        "    y_proba = model.predict_proba(X_test[columnas_train])\n",
        "\n",
        "    # Métricas\n",
        "    acc = accuracy_score(y_test_modified, y_pred)\n",
        "    precision = precision_score(y_test_modified, y_pred)\n",
        "    recall = recall_score(y_test_modified, y_pred)\n",
        "    f1 = f1_score(y_test_modified, y_pred)\n",
        "    auc = roc_auc_score(y_test_modified, y_proba[:, 1])\n",
        "\n",
        "    wandb.log({\n",
        "        \"accuracy\": acc,\n",
        "        \"precision\": precision,\n",
        "        \"recall\": recall,\n",
        "        \"f1_score\": f1,\n",
        "        \"auc\": auc\n",
        "    })\n",
        "\n",
        "    # Matriz de confusión\n",
        "    cm = confusion_matrix(y_test_modified, y_pred)\n",
        "    fig, ax = plt.subplots()\n",
        "    sns.heatmap(cm, annot=True, fmt='d', cmap='Blues', ax=ax)\n",
        "    ax.set_xlabel(\"Predicted\")\n",
        "    ax.set_ylabel(\"Actual\")\n",
        "    wandb.log({\"confusion_matrix\": wandb.Image(fig)})\n",
        "    plt.close(fig)\n",
        "\n",
        "    # Curva ROC\n",
        "    fpr, tpr, _ = roc_curve(y_test_modified, y_proba[:, 1])\n",
        "    wandb.log({\n",
        "        \"roc_curve\": wandb.plot.line_series(\n",
        "            xs=fpr,\n",
        "            ys=[tpr],\n",
        "            keys=[\"TPR\"],\n",
        "            title=\"ROC Curve\",\n",
        "            xname=\"FPR\"\n",
        "        )\n",
        "    })\n",
        "\n",
        "    # Tabla de predicciones\n",
        "    table = pd.DataFrame({\n",
        "        \"true_label\": y_test_modified,\n",
        "        \"predicted_label\": y_pred,\n",
        "        \"probability\": y_proba[:, 1]\n",
        "    })\n",
        "    wandb.log({\"predictions_table\": wandb.Table(dataframe=table)})\n",
        "\n",
        "# Sweep configuration\n",
        "sweep_config = {\n",
        "    'method': 'random',\n",
        "    'metric': {\n",
        "        'name': 'auc',\n",
        "        'goal': 'maximize'\n",
        "    },\n",
        "    'parameters': {\n",
        "        'n_estimators': {'values': [100, 200, 300]},\n",
        "        'learning_rate': {'min': 0.01, 'max': 0.3},\n",
        "        'max_depth': {'values': [3, 5, 7]},\n",
        "        'subsample': {'min': 0.5, 'max': 1.0},\n",
        "        'colsample_bytree': {'min': 0.5, 'max': 1.0}\n",
        "    }\n",
        "}\n",
        "\n",
        "# Ejecutar sweep (solo la primera vez para crear ID)\n",
        "sweep_id = wandb.sweep(sweep_config, project=\"Fraud-classification\")\n",
        "\n",
        "# Lanzar agente (corre varias pruebas automáticamente)\n",
        "wandb.agent(sweep_id, function=train, count=10)\n"
      ]
    },
    {
      "cell_type": "code",
      "execution_count": 68,
      "metadata": {
        "id": "4ef0W1ClxfXc"
      },
      "outputs": [],
      "source": [
        "test_data['predicciones'] = model.predict(test_data[columnas_train])"
      ]
    },
    {
      "cell_type": "code",
      "execution_count": 69,
      "metadata": {
        "colab": {
          "base_uri": "https://localhost:8080/",
          "height": 178
        },
        "id": "ROpKivlCgq0r",
        "outputId": "525605e4-d547-4e3e-f84b-a1f7c04b3883"
      },
      "outputs": [
        {
          "data": {
            "text/html": [
              "<div>\n",
              "<style scoped>\n",
              "    .dataframe tbody tr th:only-of-type {\n",
              "        vertical-align: middle;\n",
              "    }\n",
              "\n",
              "    .dataframe tbody tr th {\n",
              "        vertical-align: top;\n",
              "    }\n",
              "\n",
              "    .dataframe thead th {\n",
              "        text-align: right;\n",
              "    }\n",
              "</style>\n",
              "<table border=\"1\" class=\"dataframe\">\n",
              "  <thead>\n",
              "    <tr style=\"text-align: right;\">\n",
              "      <th></th>\n",
              "      <th>count</th>\n",
              "    </tr>\n",
              "    <tr>\n",
              "      <th>predicciones</th>\n",
              "      <th></th>\n",
              "    </tr>\n",
              "  </thead>\n",
              "  <tbody>\n",
              "    <tr>\n",
              "      <th>0</th>\n",
              "      <td>40263</td>\n",
              "    </tr>\n",
              "    <tr>\n",
              "      <th>1</th>\n",
              "      <td>20044</td>\n",
              "    </tr>\n",
              "  </tbody>\n",
              "</table>\n",
              "</div><br><label><b>dtype:</b> int64</label>"
            ],
            "text/plain": [
              "predicciones\n",
              "0    40263\n",
              "1    20044\n",
              "Name: count, dtype: int64"
            ]
          },
          "execution_count": 69,
          "metadata": {},
          "output_type": "execute_result"
        }
      ],
      "source": [
        "test_data['predicciones'].value_counts()"
      ]
    }
  ],
  "metadata": {
    "colab": {
      "provenance": []
    },
    "kernelspec": {
      "display_name": "Python 3",
      "name": "python3"
    },
    "language_info": {
      "codemirror_mode": {
        "name": "ipython",
        "version": 3
      },
      "file_extension": ".py",
      "mimetype": "text/x-python",
      "name": "python",
      "nbconvert_exporter": "python",
      "pygments_lexer": "ipython3",
      "version": "3.10.0"
    }
  },
  "nbformat": 4,
  "nbformat_minor": 0
}
